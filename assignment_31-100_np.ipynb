{
 "cells": [
  {
   "cell_type": "code",
   "execution_count": 5,
   "metadata": {},
   "outputs": [],
   "source": [
    "import numpy as np\n",
    "from numpy import *"
   ]
  },
  {
   "cell_type": "code",
   "execution_count": 9,
   "metadata": {},
   "outputs": [],
   "source": [
    "#31. How to ignore all numpy warnings (not recommended)? (★☆☆)\n",
    "\n",
    "with np.errstate(divide='ignore'):\n",
    "    a=np.ones(1)/0"
   ]
  },
  {
   "cell_type": "code",
   "execution_count": 10,
   "metadata": {},
   "outputs": [
    {
     "name": "stderr",
     "output_type": "stream",
     "text": [
      "C:\\Users\\roshan\\Anaconda3\\lib\\site-packages\\ipykernel_launcher.py:2: RuntimeWarning: invalid value encountered in sqrt\n",
      "  \n"
     ]
    },
    {
     "data": {
      "text/plain": [
       "False"
      ]
     },
     "execution_count": 10,
     "metadata": {},
     "output_type": "execute_result"
    }
   ],
   "source": [
    "#32. Is the following expressions true?\n",
    "np.sqrt(-1) == np.emath.sqrt(-1)\n"
   ]
  },
  {
   "cell_type": "code",
   "execution_count": 12,
   "metadata": {},
   "outputs": [
    {
     "data": {
      "text/plain": [
       "1j"
      ]
     },
     "execution_count": 12,
     "metadata": {},
     "output_type": "execute_result"
    }
   ],
   "source": [
    "np.emath.sqrt(-1)"
   ]
  },
  {
   "cell_type": "code",
   "execution_count": 13,
   "metadata": {},
   "outputs": [
    {
     "name": "stderr",
     "output_type": "stream",
     "text": [
      "C:\\Users\\roshan\\Anaconda3\\lib\\site-packages\\ipykernel_launcher.py:1: RuntimeWarning: invalid value encountered in sqrt\n",
      "  \"\"\"Entry point for launching an IPython kernel.\n"
     ]
    },
    {
     "data": {
      "text/plain": [
       "nan"
      ]
     },
     "execution_count": 13,
     "metadata": {},
     "output_type": "execute_result"
    }
   ],
   "source": [
    "np.sqrt(-1)"
   ]
  },
  {
   "cell_type": "code",
   "execution_count": 18,
   "metadata": {},
   "outputs": [
    {
     "name": "stdout",
     "output_type": "stream",
     "text": [
      "2019-08-05\n"
     ]
    }
   ],
   "source": [
    "#33. How to get the dates of yesterday, today and tomorrow?\n",
    "today=datetime64('today','D')+timedelta64(0,'D')\n",
    "print(today)"
   ]
  },
  {
   "cell_type": "code",
   "execution_count": 24,
   "metadata": {},
   "outputs": [
    {
     "data": {
      "text/plain": [
       "array(['2016-07-01', '2016-07-02', '2016-07-03', '2016-07-04',\n",
       "       '2016-07-05', '2016-07-06', '2016-07-07', '2016-07-08',\n",
       "       '2016-07-09', '2016-07-10', '2016-07-11', '2016-07-12',\n",
       "       '2016-07-13', '2016-07-14', '2016-07-15', '2016-07-16',\n",
       "       '2016-07-17', '2016-07-18', '2016-07-19', '2016-07-20',\n",
       "       '2016-07-21', '2016-07-22', '2016-07-23', '2016-07-24',\n",
       "       '2016-07-25', '2016-07-26', '2016-07-27', '2016-07-28',\n",
       "       '2016-07-29', '2016-07-30', '2016-07-31'], dtype='datetime64[D]')"
      ]
     },
     "execution_count": 24,
     "metadata": {},
     "output_type": "execute_result"
    }
   ],
   "source": [
    "#34. How to get all the dates corresponding to the month of July 2016?\n",
    "arange('2016-07','2016-08',dtype='datetime64[D]')"
   ]
  },
  {
   "cell_type": "code",
   "execution_count": 30,
   "metadata": {},
   "outputs": [
    {
     "data": {
      "text/plain": [
       "array([3., 3., 3.])"
      ]
     },
     "execution_count": 30,
     "metadata": {},
     "output_type": "execute_result"
    }
   ],
   "source": [
    "#35. How to compute ((A+B)*(-A/2)) in place (without copy)?          ################### ***\n",
    "A = np.ones(3)*1\n",
    "B = np.ones(3)*2\n",
    "C = np.ones(3)*3\n",
    "np.add(A,B,out=B)\n",
    "np.divide(A,2,out=A)\n",
    "np.negative(A,out=A)\n",
    "np.multiply(A,B,out=A)\n",
    "C"
   ]
  },
  {
   "cell_type": "code",
   "execution_count": 42,
   "metadata": {},
   "outputs": [
    {
     "name": "stdout",
     "output_type": "stream",
     "text": [
      "[2.21993171 8.70732306 2.06719155 9.18610908 4.88411189 6.11743863\n",
      " 7.65907856 5.18417988 2.96800502 1.87721229]\n"
     ]
    },
    {
     "data": {
      "text/plain": [
       "array([2, 8, 2, 9, 4, 6, 7, 5, 2, 1])"
      ]
     },
     "execution_count": 42,
     "metadata": {},
     "output_type": "execute_result"
    }
   ],
   "source": [
    "#36. Extract the integer part of a random array using 5 different methods \n",
    "from numpy.random import *\n",
    "seed(5)\n",
    "a= np.random.uniform(0,10,10)\n",
    "print(a)\n",
    "np.floor(a)\n",
    "np.ceil(a)-1\n",
    "a.astype(int)\n",
    "\n",
    "\n"
   ]
  },
  {
   "cell_type": "code",
   "execution_count": 59,
   "metadata": {},
   "outputs": [
    {
     "data": {
      "text/plain": [
       "array([[0., 1., 2., 3., 4.],\n",
       "       [0., 1., 2., 3., 4.],\n",
       "       [0., 1., 2., 3., 4.],\n",
       "       [0., 1., 2., 3., 4.],\n",
       "       [0., 1., 2., 3., 4.]])"
      ]
     },
     "execution_count": 59,
     "metadata": {},
     "output_type": "execute_result"
    }
   ],
   "source": [
    "#37. Create a 5x5 matrix with row values ranging from 0 to 4 \n",
    "a=np.zeros((5,5))\n",
    "a+=np.arange(5)\n",
    "a\n"
   ]
  },
  {
   "cell_type": "code",
   "execution_count": 64,
   "metadata": {},
   "outputs": [
    {
     "name": "stdout",
     "output_type": "stream",
     "text": [
      "[0 1 2 3 4 5 6 7 8 9]\n"
     ]
    }
   ],
   "source": [
    "#38. Consider a generator function that generates 10 integers and use it to build an array\n",
    "def generate():\n",
    "    for x in range(10):\n",
    "        yield x\n",
    "Z = np.fromiter(generate(),dtype=int,count=-1)\n",
    "print(Z)"
   ]
  },
  {
   "cell_type": "code",
   "execution_count": 67,
   "metadata": {},
   "outputs": [
    {
     "data": {
      "text/plain": [
       "array([0. , 0.1, 0.2, 0.3, 0.4, 0.5, 0.6, 0.7, 0.8, 0.9])"
      ]
     },
     "execution_count": 67,
     "metadata": {},
     "output_type": "execute_result"
    }
   ],
   "source": [
    "#39. Create a vector of size 10 with values ranging from 0 to 1, both excluded\n",
    "np.arange(0.0,1,0.1)"
   ]
  },
  {
   "cell_type": "code",
   "execution_count": 72,
   "metadata": {},
   "outputs": [
    {
     "data": {
      "text/plain": [
       "array([0.00164217, 0.02293309, 0.02430656, 0.20455555, 0.51547261,\n",
       "       0.57766286, 0.63979518, 0.69984361, 0.77951459, 0.9856244 ])"
      ]
     },
     "execution_count": 72,
     "metadata": {},
     "output_type": "execute_result"
    }
   ],
   "source": [
    "#40. Create a random vector of size 10 and sort it\n",
    "b=np.random.random(10)\n",
    "b.sort()\n",
    "b"
   ]
  },
  {
   "cell_type": "code",
   "execution_count": 78,
   "metadata": {},
   "outputs": [
    {
     "data": {
      "text/plain": [
       "1225"
      ]
     },
     "execution_count": 78,
     "metadata": {},
     "output_type": "execute_result"
    }
   ],
   "source": [
    "#41. How to sum a small array faster than np.sum?\n",
    "a=np.arange(50)\n",
    "add.reduce(a)\n",
    "np.sum(a)"
   ]
  },
  {
   "cell_type": "code",
   "execution_count": 81,
   "metadata": {},
   "outputs": [
    {
     "data": {
      "text/plain": [
       "array([False, False, False, False, False, False, False, False, False,\n",
       "       False])"
      ]
     },
     "execution_count": 81,
     "metadata": {},
     "output_type": "execute_result"
    }
   ],
   "source": [
    "#42. Consider two random array A and B, check if they are equal\n",
    "a=np.random.random(10)\n",
    "b=np.random.random(10)\n",
    "(a==b)"
   ]
  },
  {
   "cell_type": "code",
   "execution_count": 83,
   "metadata": {},
   "outputs": [
    {
     "data": {
      "text/plain": [
       "0.0"
      ]
     },
     "execution_count": 83,
     "metadata": {},
     "output_type": "execute_result"
    }
   ],
   "source": [
    "#43. Make an array immutable (read-only)\n",
    "Z = np.zeros(10)\n",
    "Z.flags.writeable = False\n",
    "Z[0] "
   ]
  },
  {
   "cell_type": "code",
   "execution_count": 87,
   "metadata": {},
   "outputs": [
    {
     "name": "stdout",
     "output_type": "stream",
     "text": [
      "[0.99817134 1.24022351 0.38283231 0.32631603 0.888152   0.45374091\n",
      " 0.85502528 0.25027147 0.81224465 0.25912277]\n",
      "[0.77937939 0.9037042  0.21868622 0.74604143 1.14901188 1.43796001\n",
      " 0.31418513 1.31467652 1.46586887 0.85393102]\n"
     ]
    }
   ],
   "source": [
    "#44. Consider a random 10x2 matrix representing cartesian coordinates, convert them to polar coordinates  ############***\n",
    "Z = np.random.random((10,2))\n",
    "X,Y = Z[:,0], Z[:,1]\n",
    "R = np.sqrt(X**2+Y**2)\n",
    "T = np.arctan2(Y,X)\n",
    "print(R)\n",
    "print(T)"
   ]
  },
  {
   "cell_type": "code",
   "execution_count": 103,
   "metadata": {},
   "outputs": [
    {
     "data": {
      "text/plain": [
       "array([0.14038611, 0.07544315, 0.68808941, 0.82006319, 0.61670132,\n",
       "       0.        , 0.63052799, 0.80032326, 0.36206458, 0.02771319])"
      ]
     },
     "execution_count": 103,
     "metadata": {},
     "output_type": "execute_result"
    }
   ],
   "source": [
    "#45. Create random vector of size 10 and replace the maximum value by 0\n",
    "a=np.random.random_sample(10)\n",
    "a[a.argmax()]=0\n",
    "a"
   ]
  },
  {
   "cell_type": "code",
   "execution_count": 104,
   "metadata": {},
   "outputs": [
    {
     "name": "stdout",
     "output_type": "stream",
     "text": [
      "[[(0.  , 0.  ) (0.25, 0.  ) (0.5 , 0.  ) (0.75, 0.  ) (1.  , 0.  )]\n",
      " [(0.  , 0.25) (0.25, 0.25) (0.5 , 0.25) (0.75, 0.25) (1.  , 0.25)]\n",
      " [(0.  , 0.5 ) (0.25, 0.5 ) (0.5 , 0.5 ) (0.75, 0.5 ) (1.  , 0.5 )]\n",
      " [(0.  , 0.75) (0.25, 0.75) (0.5 , 0.75) (0.75, 0.75) (1.  , 0.75)]\n",
      " [(0.  , 1.  ) (0.25, 1.  ) (0.5 , 1.  ) (0.75, 1.  ) (1.  , 1.  )]]\n"
     ]
    }
   ],
   "source": [
    "#46. Create a structured array with x and y coordinates covering the [0,1]x[0,1] area\n",
    "Z = np.zeros((5,5), [('x',float),('y',float)])\n",
    "Z['x'], Z['y'] = np.meshgrid(np.linspace(0,1,5),\n",
    "                             np.linspace(0,1,5))\n",
    "print(Z)"
   ]
  },
  {
   "cell_type": "code",
   "execution_count": 105,
   "metadata": {},
   "outputs": [
    {
     "name": "stdout",
     "output_type": "stream",
     "text": [
      "3638.1636371179666\n"
     ]
    }
   ],
   "source": [
    "#47. Given two arrays, X and Y, construct the Cauchy matrix C (Cij =1/(xi - yj))\n",
    "X = np.arange(8)\n",
    "Y = X + 0.5\n",
    "C = 1.0 / np.subtract.outer(X, Y)\n",
    "print(np.linalg.det(C))"
   ]
  },
  {
   "cell_type": "code",
   "execution_count": 106,
   "metadata": {},
   "outputs": [
    {
     "name": "stdout",
     "output_type": "stream",
     "text": [
      "-128\n",
      "127\n",
      "-2147483648\n",
      "2147483647\n",
      "-9223372036854775808\n",
      "9223372036854775807\n",
      "-3.4028235e+38\n",
      "3.4028235e+38\n",
      "1.1920929e-07\n",
      "-1.7976931348623157e+308\n",
      "1.7976931348623157e+308\n",
      "2.220446049250313e-16\n"
     ]
    }
   ],
   "source": [
    "#48. Print the minimum and maximum representable value for each numpy scalar type\n",
    "for dtype in [np.int8, np.int32, np.int64]:\n",
    "   print(np.iinfo(dtype).min)\n",
    "   print(np.iinfo(dtype).max)\n",
    "for dtype in [np.float32, np.float64]:\n",
    "   print(np.finfo(dtype).min)\n",
    "   print(np.finfo(dtype).max)\n",
    "   print(np.finfo(dtype).eps)"
   ]
  },
  {
   "cell_type": "code",
   "execution_count": 114,
   "metadata": {},
   "outputs": [
    {
     "name": "stdout",
     "output_type": "stream",
     "text": [
      "[[0. 0. 0. ... 0. 0. 0.]\n",
      " [0. 0. 0. ... 0. 0. 0.]\n",
      " [0. 0. 0. ... 0. 0. 0.]\n",
      " ...\n",
      " [0. 0. 0. ... 0. 0. 0.]\n",
      " [0. 0. 0. ... 0. 0. 0.]\n",
      " [0. 0. 0. ... 0. 0. 0.]]\n"
     ]
    }
   ],
   "source": [
    "#49. How to print all the values of an array?\n",
    "np.set_printoptions(threshold=0)\n",
    "Z = np.zeros((16,16))\n",
    "print(Z)"
   ]
  },
  {
   "cell_type": "code",
   "execution_count": 117,
   "metadata": {},
   "outputs": [
    {
     "name": "stdout",
     "output_type": "stream",
     "text": [
      "[0.57121237 0.97955853 0.75972725 ... 0.0196347  0.24587483 0.03076044]\n"
     ]
    },
    {
     "data": {
      "text/plain": [
       "array([1., 1., 1., ..., 0., 0., 0.])"
      ]
     },
     "execution_count": 117,
     "metadata": {},
     "output_type": "execute_result"
    }
   ],
   "source": [
    "#50. How to find the closest value (to a given scalar) in a vector?\n",
    "a=np.random.rand(10)\n",
    "b=a.round()\n",
    "print(a)\n",
    "b"
   ]
  },
  {
   "cell_type": "code",
   "execution_count": 2,
   "metadata": {},
   "outputs": [
    {
     "name": "stdout",
     "output_type": "stream",
     "text": [
      "[((0., 0.), (0., 0., 0.)) ((0., 0.), (0., 0., 0.))\n",
      " ((0., 0.), (0., 0., 0.)) ((0., 0.), (0., 0., 0.))\n",
      " ((0., 0.), (0., 0., 0.)) ((0., 0.), (0., 0., 0.))\n",
      " ((0., 0.), (0., 0., 0.)) ((0., 0.), (0., 0., 0.))\n",
      " ((0., 0.), (0., 0., 0.)) ((0., 0.), (0., 0., 0.))]\n"
     ]
    }
   ],
   "source": [
    "#51. Create a structured array representing a position (x,y) and a color (r,g,b) \n",
    "import numpy as np\n",
    "Z = np.zeros(10, [ ('position', [ ('x', float, 1),\n",
    "                                  ('y', float, 1)]),\n",
    "                   ('color',    [ ('r', float, 1),\n",
    "                                  ('g', float, 1),\n",
    "                                  ('b', float, 1)])])\n",
    "print(Z)\n"
   ]
  },
  {
   "cell_type": "code",
   "execution_count": 3,
   "metadata": {},
   "outputs": [
    {
     "name": "stdout",
     "output_type": "stream",
     "text": [
      "[[0.         0.38770672 0.52769293 0.56658942 0.70902495 0.31433583\n",
      "  0.47898517 0.94033701 0.12964691 0.38174024]\n",
      " [0.38770672 0.         0.58132202 0.34652872 0.33089611 0.48332753\n",
      "  0.28559715 0.55279552 0.36553189 0.66966488]\n",
      " [0.52769293 0.58132202 0.         0.91845199 0.71222312 0.22308562\n",
      "  0.84360111 0.98187647 0.39919898 0.36535104]\n",
      " [0.56658942 0.34652872 0.91845199 0.         0.51108968 0.78435752\n",
      "  0.08765167 0.58241853 0.61795955 0.93143154]\n",
      " [0.70902495 0.33089611 0.71222312 0.51108968 0.         0.71175821\n",
      "  0.50390031 0.27105804 0.65793777 0.92425068]\n",
      " [0.31433583 0.48332753 0.22308562 0.78435752 0.71175821 0.\n",
      "  0.70143716 0.97908986 0.19286744 0.21698805]\n",
      " [0.47898517 0.28559715 0.84360111 0.08765167 0.50390031 0.70143716\n",
      "  0.         0.61532648 0.53180007 0.84452871]\n",
      " [0.94033701 0.55279552 0.98187647 0.58241853 0.27105804 0.97908986\n",
      "  0.61532648 0.         0.90825637 1.18881918]\n",
      " [0.12964691 0.36553189 0.39919898 0.61795955 0.65793777 0.19286744\n",
      "  0.53180007 0.90825637 0.         0.31547108]\n",
      " [0.38174024 0.66966488 0.36535104 0.93143154 0.92425068 0.21698805\n",
      "  0.84452871 1.18881918 0.31547108 0.        ]]\n",
      "[[0.         0.55208368 0.40706304 0.24883509 0.37712486 0.60717182\n",
      "  0.20048363 0.43980567 0.57683464 0.73157879]\n",
      " [0.55208368 0.         0.1798166  0.78299825 0.19271705 0.4065417\n",
      "  0.47593083 0.28494437 0.54400221 0.38564882]\n",
      " [0.40706304 0.1798166  0.         0.65168225 0.15930924 0.31183095\n",
      "  0.30001293 0.13598246 0.5841543  0.36791605]\n",
      " [0.24883509 0.78299825 0.65168225 0.         0.59593887 0.85041415\n",
      "  0.43278698 0.68814008 0.65227505 0.97974014]\n",
      " [0.37712486 0.19271705 0.15930924 0.59593887 0.         0.47104141\n",
      "  0.35395489 0.29193749 0.42485882 0.51281751]\n",
      " [0.60717182 0.4065417  0.31183095 0.85041415 0.47104141 0.\n",
      "  0.41945886 0.18959944 0.89568339 0.16675274]\n",
      " [0.20048363 0.47593083 0.30001293 0.43278698 0.35395489 0.41945886\n",
      "  0.         0.27612345 0.68661402 0.55933042]\n",
      " [0.43980567 0.28494437 0.13598246 0.68814008 0.29193749 0.18959944\n",
      "  0.27612345 0.         0.7154689  0.29179176]\n",
      " [0.57683464 0.54400221 0.5841543  0.65227505 0.42485882 0.89568339\n",
      "  0.68661402 0.7154689  0.         0.92147264]\n",
      " [0.73157879 0.38564882 0.36791605 0.97974014 0.51281751 0.16675274\n",
      "  0.55933042 0.29179176 0.92147264 0.        ]]\n"
     ]
    }
   ],
   "source": [
    "#52. Consider a random vector with shape (100,2) representing coordinates, find point by point distances \n",
    "Z = np.random.random((10,2))\n",
    "X,Y = np.atleast_2d(Z[:,0], Z[:,1])\n",
    "D = np.sqrt( (X-X.T)**2 + (Y-Y.T)**2)\n",
    "print(D)\n",
    "\n",
    "# Much faster with scipy\n",
    "import scipy\n",
    "# Thanks Gavin Heverly-Coulson (#issue 1)\n",
    "import scipy.spatial\n",
    "\n",
    "Z = np.random.random((10,2))\n",
    "D = scipy.spatial.distance.cdist(Z,Z)\n",
    "print(D)"
   ]
  },
  {
   "cell_type": "code",
   "execution_count": 5,
   "metadata": {},
   "outputs": [
    {
     "data": {
      "text/plain": [
       "2"
      ]
     },
     "execution_count": 5,
     "metadata": {},
     "output_type": "execute_result"
    }
   ],
   "source": [
    "#53. How to convert a float (32 bits) array into an integer (32 bits) in place?\n",
    "a=2.365\n",
    "b=int(a)\n",
    "b"
   ]
  },
  {
   "cell_type": "code",
   "execution_count": 6,
   "metadata": {},
   "outputs": [
    {
     "name": "stdout",
     "output_type": "stream",
     "text": [
      "[0 1 2 3 4 5 6 7 8 9]\n"
     ]
    }
   ],
   "source": [
    "Z = np.arange(10, dtype=np.float32)\n",
    "Z = Z.astype(np.int32, copy=False)\n",
    "print(Z)"
   ]
  },
  {
   "cell_type": "code",
   "execution_count": 8,
   "metadata": {},
   "outputs": [
    {
     "ename": "SyntaxError",
     "evalue": "invalid syntax (<ipython-input-8-89b2e699070a>, line 3)",
     "output_type": "error",
     "traceback": [
      "\u001b[1;36m  File \u001b[1;32m\"<ipython-input-8-89b2e699070a>\"\u001b[1;36m, line \u001b[1;32m3\u001b[0m\n\u001b[1;33m    6,  ,  , 7, 8\u001b[0m\n\u001b[1;37m        ^\u001b[0m\n\u001b[1;31mSyntaxError\u001b[0m\u001b[1;31m:\u001b[0m invalid syntax\n"
     ]
    }
   ],
   "source": [
    "#54. How to read the following file? (★★☆)\n",
    "1, 2, 3, 4, 5\n",
    "6,  ,  , 7, 8\n",
    " ,  , 9,10,11\n",
    "    \n",
    "    \n"
   ]
  },
  {
   "cell_type": "code",
   "execution_count": 9,
   "metadata": {},
   "outputs": [
    {
     "name": "stdout",
     "output_type": "stream",
     "text": [
      "[[ 1  2  3  4  5]\n",
      " [ 6 -1 -1  7  8]\n",
      " [-1 -1  9 10 11]]\n"
     ]
    }
   ],
   "source": [
    "from io import StringIO\n",
    "\n",
    "# Fake file\n",
    "s = StringIO(\"\"\"1, 2, 3, 4, 5\\n\n",
    "                6,  ,  , 7, 8\\n\n",
    "                 ,  , 9,10,11\\n\"\"\")\n",
    "Z = np.genfromtxt(s, delimiter=\",\", dtype=np.int)\n",
    "print(Z)"
   ]
  },
  {
   "cell_type": "code",
   "execution_count": 10,
   "metadata": {},
   "outputs": [
    {
     "name": "stdout",
     "output_type": "stream",
     "text": [
      "(0, 0) 0\n",
      "(0, 1) 1\n",
      "(0, 2) 2\n",
      "(1, 0) 3\n",
      "(1, 1) 4\n",
      "(1, 2) 5\n",
      "(2, 0) 6\n",
      "(2, 1) 7\n",
      "(2, 2) 8\n",
      "(0, 0) 0\n",
      "(0, 1) 1\n",
      "(0, 2) 2\n",
      "(1, 0) 3\n",
      "(1, 1) 4\n",
      "(1, 2) 5\n",
      "(2, 0) 6\n",
      "(2, 1) 7\n",
      "(2, 2) 8\n"
     ]
    }
   ],
   "source": [
    "#55. What is the equivalent of enumerate for numpy arrays? (★★☆)\n",
    "Z = np.arange(9).reshape(3,3)\n",
    "for index, value in np.ndenumerate(Z):\n",
    "    print(index, value)\n",
    "for index in np.ndindex(Z.shape):\n",
    "    print(index, Z[index])"
   ]
  },
  {
   "cell_type": "code",
   "execution_count": 11,
   "metadata": {},
   "outputs": [
    {
     "name": "stdout",
     "output_type": "stream",
     "text": [
      "[[0.36787944 0.44822088 0.51979489 0.57375342 0.60279818 0.60279818\n",
      "  0.57375342 0.51979489 0.44822088 0.36787944]\n",
      " [0.44822088 0.54610814 0.63331324 0.69905581 0.73444367 0.73444367\n",
      "  0.69905581 0.63331324 0.54610814 0.44822088]\n",
      " [0.51979489 0.63331324 0.73444367 0.81068432 0.85172308 0.85172308\n",
      "  0.81068432 0.73444367 0.63331324 0.51979489]\n",
      " [0.57375342 0.69905581 0.81068432 0.89483932 0.9401382  0.9401382\n",
      "  0.89483932 0.81068432 0.69905581 0.57375342]\n",
      " [0.60279818 0.73444367 0.85172308 0.9401382  0.98773022 0.98773022\n",
      "  0.9401382  0.85172308 0.73444367 0.60279818]\n",
      " [0.60279818 0.73444367 0.85172308 0.9401382  0.98773022 0.98773022\n",
      "  0.9401382  0.85172308 0.73444367 0.60279818]\n",
      " [0.57375342 0.69905581 0.81068432 0.89483932 0.9401382  0.9401382\n",
      "  0.89483932 0.81068432 0.69905581 0.57375342]\n",
      " [0.51979489 0.63331324 0.73444367 0.81068432 0.85172308 0.85172308\n",
      "  0.81068432 0.73444367 0.63331324 0.51979489]\n",
      " [0.44822088 0.54610814 0.63331324 0.69905581 0.73444367 0.73444367\n",
      "  0.69905581 0.63331324 0.54610814 0.44822088]\n",
      " [0.36787944 0.44822088 0.51979489 0.57375342 0.60279818 0.60279818\n",
      "  0.57375342 0.51979489 0.44822088 0.36787944]]\n"
     ]
    }
   ],
   "source": [
    "#56. Generate a generic 2D Gaussian-like array (★★☆\n",
    "X, Y = np.meshgrid(np.linspace(-1,1,10), np.linspace(-1,1,10))\n",
    "D = np.sqrt(X*X+Y*Y)\n",
    "sigma, mu = 1.0, 0.0\n",
    "G = np.exp(-( (D-mu)**2 / ( 2.0 * sigma**2 ) ) )\n",
    "print(G)"
   ]
  },
  {
   "cell_type": "code",
   "execution_count": 12,
   "metadata": {},
   "outputs": [
    {
     "name": "stdout",
     "output_type": "stream",
     "text": [
      "[[0. 0. 0. 1. 0. 0. 0. 0. 0. 0.]\n",
      " [0. 0. 0. 0. 0. 0. 0. 0. 0. 0.]\n",
      " [0. 0. 0. 0. 0. 0. 0. 0. 0. 0.]\n",
      " [0. 0. 0. 0. 0. 0. 0. 0. 0. 0.]\n",
      " [0. 0. 0. 0. 0. 0. 0. 0. 1. 0.]\n",
      " [0. 0. 0. 0. 0. 0. 0. 0. 0. 0.]\n",
      " [0. 0. 0. 0. 0. 0. 0. 0. 1. 0.]\n",
      " [0. 0. 0. 0. 0. 0. 0. 0. 0. 0.]\n",
      " [0. 0. 0. 0. 0. 0. 0. 0. 0. 0.]\n",
      " [0. 0. 0. 0. 0. 0. 0. 0. 0. 0.]]\n"
     ]
    }
   ],
   "source": [
    "#57. How to randomly place p elements in a 2D array?\n",
    "\n",
    "n = 10\n",
    "p = 3\n",
    "Z = np.zeros((n,n))\n",
    "np.put(Z, np.random.choice(range(n*n), p, replace=False),1)\n",
    "print(Z)"
   ]
  },
  {
   "cell_type": "code",
   "execution_count": 13,
   "metadata": {},
   "outputs": [
    {
     "name": "stdout",
     "output_type": "stream",
     "text": [
      "[[ 0.0325573  -0.28887704 -0.26442372 -0.05297237 -0.20601211 -0.21230488\n",
      "   0.02403829  0.37218841  0.38140677  0.21439934]\n",
      " [ 0.18674529  0.1228159   0.16827669 -0.30431966  0.23998157 -0.11986662\n",
      "  -0.49565806 -0.18229148  0.09529943  0.28901694]\n",
      " [ 0.17442817 -0.47137001  0.29957025  0.17545279 -0.15316047  0.31210207\n",
      "  -0.58186408  0.28777642 -0.34225953  0.2993244 ]\n",
      " [ 0.10321791 -0.33831831  0.44889939 -0.08038488  0.30807425  0.14081249\n",
      "  -0.32985537 -0.34645091  0.1386151  -0.04460965]\n",
      " [-0.36484679  0.11005302 -0.21723819  0.39620111 -0.13394484  0.51120422\n",
      "  -0.03853066 -0.1233617   0.07318799 -0.21272415]]\n"
     ]
    }
   ],
   "source": [
    "#58. Subtract the mean of each row of a matrix\n",
    "X = np.random.rand(5, 10)\n",
    "\n",
    "# Recent versions of numpy\n",
    "Y = X - X.mean(axis=1, keepdims=True)\n",
    "\n",
    "# Older versions of numpy\n",
    "Y = X - X.mean(axis=1).reshape(-1, 1)\n",
    "\n",
    "print(Y)"
   ]
  },
  {
   "cell_type": "code",
   "execution_count": 14,
   "metadata": {},
   "outputs": [
    {
     "name": "stdout",
     "output_type": "stream",
     "text": [
      "[[4 9 3]\n",
      " [6 2 4]\n",
      " [7 2 6]]\n",
      "[[6 2 4]\n",
      " [7 2 6]\n",
      " [4 9 3]]\n"
     ]
    }
   ],
   "source": [
    "#59. How to sort an array by the nth column? \n",
    "Z = np.random.randint(0,10,(3,3))\n",
    "print(Z)\n",
    "print(Z[Z[:,1].argsort()])"
   ]
  },
  {
   "cell_type": "code",
   "execution_count": 24,
   "metadata": {},
   "outputs": [
    {
     "data": {
      "text/plain": [
       "array([[False, False, False, False, False],\n",
       "       [False, False, False, False, False]])"
      ]
     },
     "execution_count": 24,
     "metadata": {},
     "output_type": "execute_result"
    }
   ],
   "source": [
    "#60. How to tell if a given 2D array has null columns?\n",
    "a=np.arange(0,10).reshape(2,5)\n",
    "a==np.nan\n"
   ]
  },
  {
   "cell_type": "code",
   "execution_count": 21,
   "metadata": {},
   "outputs": [
    {
     "name": "stdout",
     "output_type": "stream",
     "text": [
      "False\n"
     ]
    }
   ],
   "source": [
    "Z = np.random.randint(0,3,(3,10))\n",
    "print((~Z.any(axis=0)).any())"
   ]
  },
  {
   "cell_type": "code",
   "execution_count": 27,
   "metadata": {},
   "outputs": [
    {
     "name": "stdout",
     "output_type": "stream",
     "text": [
      "0.8802244473166527\n"
     ]
    }
   ],
   "source": [
    "#61. Find the nearest value from a given value in an array\n",
    "Z = np.random.uniform(0,1,10)\n",
    "z = 0.9\n",
    "m = Z.flat[np.abs(Z - z).argmin()]\n",
    "print(m)"
   ]
  },
  {
   "cell_type": "code",
   "execution_count": 28,
   "metadata": {},
   "outputs": [
    {
     "name": "stdout",
     "output_type": "stream",
     "text": [
      "[[0 1 2]\n",
      " [1 2 3]\n",
      " [2 3 4]]\n"
     ]
    }
   ],
   "source": [
    "#62. Considering two arrays with shape (1,3) and (3,1), how to compute their sum using an iterator?\n",
    "A = np.arange(3).reshape(3,1)\n",
    "B = np.arange(3).reshape(1,3)\n",
    "it = np.nditer([A,B,None])\n",
    "for x,y,z in it: z[...] = x + y\n",
    "print(it.operands[2])"
   ]
  },
  {
   "cell_type": "code",
   "execution_count": 29,
   "metadata": {},
   "outputs": [
    {
     "name": "stdout",
     "output_type": "stream",
     "text": [
      "range_10\n"
     ]
    }
   ],
   "source": [
    "#63. Create an array class that has a name attribute \n",
    "class NamedArray(np.ndarray):\n",
    "    def __new__(cls, array, name=\"no name\"):\n",
    "        obj = np.asarray(array).view(cls)\n",
    "        obj.name = name\n",
    "        return obj\n",
    "    def __array_finalize__(self, obj):\n",
    "        if obj is None: return\n",
    "        self.info = getattr(obj, 'name', \"no name\")\n",
    "\n",
    "Z = NamedArray(np.arange(10), \"range_10\")\n",
    "print (Z.name)"
   ]
  },
  {
   "cell_type": "code",
   "execution_count": 30,
   "metadata": {},
   "outputs": [
    {
     "name": "stdout",
     "output_type": "stream",
     "text": [
      "[2. 2. 4. 1. 3. 3. 7. 2. 4. 2.]\n",
      "[ 3.  3.  7.  1.  5.  5. 13.  3.  7.  3.]\n"
     ]
    }
   ],
   "source": [
    "#64. Consider a given vector, how to add 1 to each element indexed by a second vector (be careful with repeated indices)?\n",
    "Z = np.ones(10)\n",
    "I = np.random.randint(0,len(Z),20)\n",
    "Z += np.bincount(I, minlength=len(Z))\n",
    "print(Z)\n",
    "\n",
    "# Another solution\n",
    "# Author: Bartosz Telenczuk\n",
    "np.add.at(Z, I, 1)\n",
    "print(Z)"
   ]
  },
  {
   "cell_type": "code",
   "execution_count": 31,
   "metadata": {},
   "outputs": [
    {
     "name": "stdout",
     "output_type": "stream",
     "text": [
      "[0. 7. 0. 6. 5. 0. 0. 0. 0. 3.]\n"
     ]
    }
   ],
   "source": [
    "#65. How to accumulate elements of a vector (X) to an array (F) based on an index list (I)?\n",
    "X = [1,2,3,4,5,6]\n",
    "I = [1,3,9,3,4,1]\n",
    "F = np.bincount(I,X)\n",
    "print(F)"
   ]
  },
  {
   "cell_type": "code",
   "execution_count": 32,
   "metadata": {},
   "outputs": [
    {
     "name": "stdout",
     "output_type": "stream",
     "text": [
      "[0 1]\n"
     ]
    }
   ],
   "source": [
    "#66. Considering a (w,h,3) image of (dtype=ubyte), compute the number of unique colors\n",
    "w,h = 16,16\n",
    "I = np.random.randint(0,2,(h,w,3)).astype(np.ubyte)\n",
    "F = I[...,0]*256*256 + I[...,1]*256 +I[...,2]\n",
    "n = len(np.unique(F))\n",
    "print(np.unique(I))"
   ]
  },
  {
   "cell_type": "code",
   "execution_count": 33,
   "metadata": {},
   "outputs": [
    {
     "name": "stdout",
     "output_type": "stream",
     "text": [
      "[[59 65 51 65]\n",
      " [55 61 53 61]\n",
      " [57 50 59 57]]\n",
      "[[59 65 51 65]\n",
      " [55 61 53 61]\n",
      " [57 50 59 57]]\n"
     ]
    }
   ],
   "source": [
    "#67. Considering a four dimensions array, how to get sum over the last two axis at once?\n",
    "A = np.random.randint(0,10,(3,4,3,4))\n",
    "# solution by passing a tuple of axes (introduced in numpy 1.7.0)\n",
    "sum = A.sum(axis=(-2,-1))\n",
    "print(sum)\n",
    "# solution by flattening the last two dimensions into one\n",
    "# (useful for functions that don't accept tuples for axis argument)\n",
    "sum = A.reshape(A.shape[:-2] + (-1,)).sum(axis=-1)\n",
    "print(sum)"
   ]
  },
  {
   "cell_type": "code",
   "execution_count": 34,
   "metadata": {},
   "outputs": [
    {
     "name": "stdout",
     "output_type": "stream",
     "text": [
      "[0.51524206 0.49660862 0.60463767 0.61921812 0.54910504 0.59086179\n",
      " 0.39696396 0.60496221 0.57445354 0.65662373]\n",
      "0    0.515242\n",
      "1    0.496609\n",
      "2    0.604638\n",
      "3    0.619218\n",
      "4    0.549105\n",
      "5    0.590862\n",
      "6    0.396964\n",
      "7    0.604962\n",
      "8    0.574454\n",
      "9    0.656624\n",
      "dtype: float64\n"
     ]
    }
   ],
   "source": [
    "#68. Considering a one-dimensional vector D, how to compute means of subsets of D using a vector S of same size describing subset indices? \n",
    "D = np.random.uniform(0,1,100)\n",
    "S = np.random.randint(0,10,100)\n",
    "D_sums = np.bincount(S, weights=D)\n",
    "D_counts = np.bincount(S)\n",
    "D_means = D_sums / D_counts\n",
    "print(D_means)\n",
    "\n",
    "# Pandas solution as a reference due to more intuitive code\n",
    "import pandas as pd\n",
    "print(pd.Series(D).groupby(S).mean())"
   ]
  },
  {
   "cell_type": "code",
   "execution_count": 38,
   "metadata": {},
   "outputs": [
    {
     "name": "stdout",
     "output_type": "stream",
     "text": [
      "[0.55133794 0.87804847 1.3026328  0.74681928 1.18656685]\n"
     ]
    }
   ],
   "source": [
    "#69. How to get the diagonal of a dot product?\n",
    "A = np.random.uniform(0,1,(5,5))\n",
    "B = np.random.uniform(0,1,(5,5))\n",
    "\n",
    "c=np.dot(A,B)\n",
    "print(np.diag(c))"
   ]
  },
  {
   "cell_type": "code",
   "execution_count": 39,
   "metadata": {},
   "outputs": [
    {
     "name": "stdout",
     "output_type": "stream",
     "text": [
      "[1. 0. 0. 0. 2. 0. 0. 0. 3. 0. 0. 0. 4. 0. 0. 0. 5.]\n"
     ]
    }
   ],
   "source": [
    "#70. Consider the vector [1, 2, 3, 4, 5], how to build a new vector with 3 consecutive zeros interleaved between each value?\n",
    "Z = np.array([1,2,3,4,5])\n",
    "nz = 3\n",
    "Z0 = np.zeros(len(Z) + (len(Z)-1)*(nz))\n",
    "Z0[::nz+1] = Z\n",
    "print(Z0)"
   ]
  },
  {
   "cell_type": "code",
   "execution_count": 40,
   "metadata": {},
   "outputs": [
    {
     "name": "stdout",
     "output_type": "stream",
     "text": [
      "[[[2. 2. 2.]\n",
      "  [2. 2. 2.]\n",
      "  [2. 2. 2.]\n",
      "  [2. 2. 2.]\n",
      "  [2. 2. 2.]]\n",
      "\n",
      " [[2. 2. 2.]\n",
      "  [2. 2. 2.]\n",
      "  [2. 2. 2.]\n",
      "  [2. 2. 2.]\n",
      "  [2. 2. 2.]]\n",
      "\n",
      " [[2. 2. 2.]\n",
      "  [2. 2. 2.]\n",
      "  [2. 2. 2.]\n",
      "  [2. 2. 2.]\n",
      "  [2. 2. 2.]]\n",
      "\n",
      " [[2. 2. 2.]\n",
      "  [2. 2. 2.]\n",
      "  [2. 2. 2.]\n",
      "  [2. 2. 2.]\n",
      "  [2. 2. 2.]]\n",
      "\n",
      " [[2. 2. 2.]\n",
      "  [2. 2. 2.]\n",
      "  [2. 2. 2.]\n",
      "  [2. 2. 2.]\n",
      "  [2. 2. 2.]]]\n"
     ]
    }
   ],
   "source": [
    "#71. Consider an array of dimension (5,5,3), how to mulitply it by an array with dimensions (5,5)?\n",
    "A = np.ones((5,5,3))\n",
    "B = 2*np.ones((5,5))\n",
    "print(A * B[:,:,None])"
   ]
  },
  {
   "cell_type": "code",
   "execution_count": 41,
   "metadata": {},
   "outputs": [
    {
     "name": "stdout",
     "output_type": "stream",
     "text": [
      "[[ 5  6  7  8  9]\n",
      " [ 0  1  2  3  4]\n",
      " [10 11 12 13 14]\n",
      " [15 16 17 18 19]\n",
      " [20 21 22 23 24]]\n"
     ]
    }
   ],
   "source": [
    "#72. How to swap two rows of an array?\n",
    "A = np.arange(25).reshape(5,5)\n",
    "A[[0,1]] = A[[1,0]]\n",
    "print(A)"
   ]
  },
  {
   "cell_type": "code",
   "execution_count": 42,
   "metadata": {},
   "outputs": [
    {
     "name": "stdout",
     "output_type": "stream",
     "text": [
      "[( 1,  3) ( 1, 66) ( 3, 66) ( 6, 14) ( 6, 15) ( 8, 19) ( 8, 24) (14, 15)\n",
      " (19, 24) (24, 41) (24, 64) (28, 41) (28, 61) (35, 40) (35, 91) (36, 61)\n",
      " (36, 71) (40, 91) (41, 48) (41, 61) (41, 64) (41, 81) (48, 81) (54, 62)\n",
      " (54, 81) (61, 71) (62, 81) (73, 74) (73, 95) (74, 95)]\n"
     ]
    }
   ],
   "source": [
    "#73. Consider a set of 10 triplets describing 10 triangles (with shared vertices), find the set of unique \n",
    "#line segments composing all the triangles \n",
    "faces = np.random.randint(0,100,(10,3))\n",
    "F = np.roll(faces.repeat(2,axis=1),-1,axis=1)\n",
    "F = F.reshape(len(F)*3,2)\n",
    "F = np.sort(F,axis=1)\n",
    "G = F.view( dtype=[('p0',F.dtype),('p1',F.dtype)] )\n",
    "G = np.unique(G)\n",
    "print(G)"
   ]
  },
  {
   "cell_type": "code",
   "execution_count": 43,
   "metadata": {},
   "outputs": [
    {
     "name": "stdout",
     "output_type": "stream",
     "text": [
      "[1 1 2 3 4 4 6]\n"
     ]
    }
   ],
   "source": [
    "#74. Given an array C that is a bincount, how to produce an array A such that np.bincount(A) == C?\n",
    "C = np.bincount([1,1,2,3,4,4,6])\n",
    "A = np.repeat(np.arange(len(C)), C)\n",
    "print(A)"
   ]
  },
  {
   "cell_type": "code",
   "execution_count": 44,
   "metadata": {},
   "outputs": [
    {
     "name": "stdout",
     "output_type": "stream",
     "text": [
      "[ 1.  2.  3.  4.  5.  6.  7.  8.  9. 10. 11. 12. 13. 14. 15. 16. 17. 18.]\n"
     ]
    }
   ],
   "source": [
    "#75. How to compute averages using a sliding window over an array?\n",
    "def moving_average(a, n=3) :\n",
    "    ret = np.cumsum(a, dtype=float)\n",
    "    ret[n:] = ret[n:] - ret[:-n]\n",
    "    return ret[n - 1:] / n\n",
    "Z = np.arange(20)\n",
    "print(moving_average(Z, n=3))"
   ]
  },
  {
   "cell_type": "code",
   "execution_count": 45,
   "metadata": {},
   "outputs": [
    {
     "name": "stdout",
     "output_type": "stream",
     "text": [
      "[[0 1 2]\n",
      " [1 2 3]\n",
      " [2 3 4]\n",
      " [3 4 5]\n",
      " [4 5 6]\n",
      " [5 6 7]\n",
      " [6 7 8]\n",
      " [7 8 9]]\n"
     ]
    }
   ],
   "source": [
    "#76. Consider a one-dimensional array Z, build a two-dimensional array whose first row is (Z[0],Z[1],Z[2]) and each subsequent row is shifted by 1 (last row should be (Z[-3],Z[-2],Z[-1])\n",
    "from numpy.lib import stride_tricks\n",
    "\n",
    "def rolling(a, window):\n",
    "    shape = (a.size - window + 1, window)\n",
    "    strides = (a.itemsize, a.itemsize)\n",
    "    return stride_tricks.as_strided(a, shape=shape, strides=strides)\n",
    "Z = rolling(np.arange(10), 3)\n",
    "print(Z)"
   ]
  },
  {
   "cell_type": "code",
   "execution_count": 46,
   "metadata": {},
   "outputs": [
    {
     "data": {
      "text/plain": [
       "array([-8.01013741e-01, -2.70301853e-01, -7.51849884e-01, -9.56459427e-01,\n",
       "        8.36009128e-01, -6.50231140e-02, -6.85466525e-01,  1.63320620e-02,\n",
       "       -2.45568498e-01,  5.54485173e-02, -3.20152962e-01, -2.36702121e-02,\n",
       "        8.61887529e-01,  8.04904079e-01,  1.04507579e-01,  3.90565702e-01,\n",
       "        3.83868685e-01, -7.21308516e-02, -9.87193086e-01,  3.07709308e-01,\n",
       "       -9.56371488e-01,  1.05874436e-02, -9.51023819e-01,  5.11546750e-02,\n",
       "       -7.03686004e-01,  5.83706321e-01,  6.60072823e-01, -8.01622253e-01,\n",
       "        6.17788649e-01,  2.52183897e-01,  4.59812708e-01,  4.20266875e-01,\n",
       "       -6.51232146e-01, -5.28429261e-01, -3.23221832e-01, -1.74903347e-01,\n",
       "       -7.43079006e-01, -4.12384507e-01, -4.81813312e-01,  4.03789291e-01,\n",
       "       -6.68209845e-01, -8.24252738e-01,  2.04588809e-01, -7.32031152e-01,\n",
       "        8.51816495e-01, -6.69420727e-01,  4.75364736e-01, -3.80867590e-01,\n",
       "        6.94216865e-01,  6.40800974e-01, -8.53333545e-01, -4.35688210e-01,\n",
       "        9.71996203e-01,  9.05052802e-04, -4.40319852e-02, -3.75322941e-01,\n",
       "        2.90006704e-01, -3.20599957e-01,  6.10680077e-01,  7.65524080e-01,\n",
       "       -5.89683342e-01, -8.17706155e-01, -9.34146577e-01,  2.49230399e-01,\n",
       "        2.78685326e-01, -1.20676500e-01,  9.34550096e-01,  8.06506344e-01,\n",
       "        7.57703829e-01,  3.19683075e-03,  4.82453126e-01,  7.65291870e-01,\n",
       "        1.68426917e-01, -6.83021408e-01,  5.54327111e-01, -9.02599954e-01,\n",
       "        8.14269553e-01,  5.78826919e-01,  2.11062163e-01, -3.82420926e-01,\n",
       "       -1.78980158e-01, -8.04535245e-01,  4.66049471e-02, -9.28934048e-01,\n",
       "       -7.94876772e-02, -7.40883012e-01, -2.45152768e-01,  2.91209986e-01,\n",
       "       -5.29039875e-01,  1.00445040e-01,  5.91887655e-01, -7.46834647e-01,\n",
       "        9.73355849e-01, -2.69266442e-01,  1.06556535e-01, -8.09730625e-01,\n",
       "        3.44989191e-01, -7.40868148e-01,  9.85267195e-01,  7.10492355e-01])"
      ]
     },
     "execution_count": 46,
     "metadata": {},
     "output_type": "execute_result"
    }
   ],
   "source": [
    "#77. How to negate a boolean, or to change the sign of a float inplace?\n",
    "Z = np.random.randint(0,2,100)\n",
    "np.logical_not(Z, out=Z)\n",
    "\n",
    "Z = np.random.uniform(-1.0,1.0,100)\n",
    "np.negative(Z, out=Z)"
   ]
  },
  {
   "cell_type": "code",
   "execution_count": 47,
   "metadata": {},
   "outputs": [
    {
     "name": "stdout",
     "output_type": "stream",
     "text": [
      "[14.47753045  2.81798718  0.26201435 14.24946207  4.0037167   3.84680557\n",
      "  5.71355421 10.82032854  3.18486893  1.5614711 ]\n"
     ]
    }
   ],
   "source": [
    "#78. Consider 2 sets of points P0,P1 describing lines (2d) and a point p, how to compute distance from p to each line i (P0[i],P1[i])?\n",
    "def distance(P0, P1, p):\n",
    "    T = P1 - P0\n",
    "    L = (T**2).sum(axis=1)\n",
    "    U = -((P0[:,0]-p[...,0])*T[:,0] + (P0[:,1]-p[...,1])*T[:,1]) / L\n",
    "    U = U.reshape(len(U),1)\n",
    "    D = P0 + U*T - p\n",
    "    return np.sqrt((D**2).sum(axis=1))\n",
    "\n",
    "P0 = np.random.uniform(-10,10,(10,2))\n",
    "P1 = np.random.uniform(-10,10,(10,2))\n",
    "p  = np.random.uniform(-10,10,( 1,2))\n",
    "print(distance(P0, P1, p))"
   ]
  },
  {
   "cell_type": "code",
   "execution_count": 48,
   "metadata": {},
   "outputs": [
    {
     "name": "stdout",
     "output_type": "stream",
     "text": [
      "[[9.17093645e+00 5.35079088e+00 4.76013172e+00 1.39091403e+01\n",
      "  4.74674928e+00 3.29907598e+00 5.14178765e+00 6.19400595e+00\n",
      "  2.62866956e+00 8.86501342e+00]\n",
      " [8.46900228e+00 3.73306835e+00 8.79994693e+00 1.32960643e+01\n",
      "  1.82562738e+01 5.65880942e+00 4.95033843e+00 6.18204335e+00\n",
      "  1.61833412e+01 1.25650784e+01]\n",
      " [8.31259874e+00 4.65680710e+00 2.80841898e+00 1.30629022e+01\n",
      "  6.71766542e+00 2.62882209e+00 3.22885953e+00 4.15772586e+00\n",
      "  4.58290010e+00 8.64565278e+00]\n",
      " [1.04098653e+01 2.01004740e+00 4.17070406e+00 1.52081420e+01\n",
      "  1.35848049e+01 3.99137070e+00 4.70848496e-01 1.38420860e+00\n",
      "  1.15485399e+01 1.29910366e+01]\n",
      " [6.29357663e-01 1.83961887e+01 1.33664374e+01 5.30297865e+00\n",
      "  3.51323217e+00 1.63309576e+01 6.08388896e+00 1.10228806e+01\n",
      "  5.93508974e+00 2.40641461e+00]\n",
      " [9.78304088e+00 5.25947430e+00 5.32841860e+00 1.45180516e+01\n",
      "  4.16020707e+00 3.19817247e+00 5.91894698e+00 6.90886241e+00\n",
      "  2.05807324e+00 9.28848511e+00]\n",
      " [3.53981642e-01 1.80377485e+01 1.17438554e+01 4.32945278e+00\n",
      "  1.86525334e+00 1.59942397e+01 4.32957318e+00 9.23916799e+00\n",
      "  4.30924060e+00 2.85661071e+00]\n",
      " [1.59513558e+01 2.13604418e+00 7.96003479e+00 2.06746165e+01\n",
      "  1.32748648e+00 5.70238037e-03 1.15443873e+01 1.13416985e+01\n",
      "  5.98747141e-01 1.45595371e+01]\n",
      " [1.15753976e+01 5.25343185e+00 7.35962132e+00 1.62986349e+01\n",
      "  2.07758266e+00 3.16078735e+00 8.45631608e+00 9.33079052e+00\n",
      "  2.03371819e-02 1.04094368e+01]\n",
      " [8.76568738e+00 1.37224515e+01 3.89087628e+00 3.98672485e+00\n",
      "  1.39770111e+01 1.18803906e+01 1.19280354e+01 7.59010282e+00\n",
      "  1.13523447e+01 6.13867661e+00]]\n"
     ]
    }
   ],
   "source": [
    "#79. Consider 2 sets of points P0,P1 describing lines (2d) and a set of points P, how to compute distance from each point j (P[j]) to each line i (P0[i],P1[i])?\n",
    "P0 = np.random.uniform(-10, 10, (10,2))\n",
    "P1 = np.random.uniform(-10,10,(10,2))\n",
    "p = np.random.uniform(-10, 10, (10,2))\n",
    "print(np.array([distance(P0,P1,p_i) for p_i in p]))"
   ]
  },
  {
   "cell_type": "code",
   "execution_count": 49,
   "metadata": {},
   "outputs": [
    {
     "name": "stdout",
     "output_type": "stream",
     "text": [
      "[[8 2 2 2 4 9 1 1 2 1]\n",
      " [4 8 9 3 1 3 1 0 7 3]\n",
      " [0 7 7 6 9 9 0 1 5 6]\n",
      " [6 4 7 6 6 6 8 0 9 2]\n",
      " [8 2 9 5 3 7 2 8 6 5]\n",
      " [2 0 7 6 0 1 0 6 5 0]\n",
      " [8 8 5 3 8 1 3 3 0 9]\n",
      " [3 2 1 8 1 1 3 5 0 8]\n",
      " [3 1 2 6 7 1 0 5 5 9]\n",
      " [3 6 6 5 1 6 7 3 6 3]]\n",
      "[[0 0 0 0 0]\n",
      " [0 8 2 2 2]\n",
      " [0 4 8 9 3]\n",
      " [0 0 7 7 6]\n",
      " [0 6 4 7 6]]\n"
     ]
    },
    {
     "name": "stderr",
     "output_type": "stream",
     "text": [
      "C:\\Users\\roshan\\Anaconda3\\lib\\site-packages\\ipykernel_launcher.py:24: FutureWarning: Using a non-tuple sequence for multidimensional indexing is deprecated; use `arr[tuple(seq)]` instead of `arr[seq]`. In the future this will be interpreted as an array index, `arr[np.array(seq)]`, which will result either in an error or a different result.\n"
     ]
    }
   ],
   "source": [
    "#80. Consider an arbitrary array, write a function that extract a subpart with a fixed shape and centered on a given element (pad with a fill value when necessary)\n",
    "Z = np.random.randint(0,10,(10,10))\n",
    "shape = (5,5)\n",
    "fill  = 0\n",
    "position = (1,1)\n",
    "\n",
    "R = np.ones(shape, dtype=Z.dtype)*fill\n",
    "P  = np.array(list(position)).astype(int)\n",
    "Rs = np.array(list(R.shape)).astype(int)\n",
    "Zs = np.array(list(Z.shape)).astype(int)\n",
    "\n",
    "R_start = np.zeros((len(shape),)).astype(int)\n",
    "R_stop  = np.array(list(shape)).astype(int)\n",
    "Z_start = (P-Rs//2)\n",
    "Z_stop  = (P+Rs//2)+Rs%2\n",
    "\n",
    "R_start = (R_start - np.minimum(Z_start,0)).tolist()\n",
    "Z_start = (np.maximum(Z_start,0)).tolist()\n",
    "R_stop = np.maximum(R_start, (R_stop - np.maximum(Z_stop-Zs,0))).tolist()\n",
    "Z_stop = (np.minimum(Z_stop,Zs)).tolist()\n",
    "\n",
    "r = [slice(start,stop) for start,stop in zip(R_start,R_stop)]\n",
    "z = [slice(start,stop) for start,stop in zip(Z_start,Z_stop)]\n",
    "R[r] = Z[z]\n",
    "print(Z)\n",
    "print(R)"
   ]
  },
  {
   "cell_type": "code",
   "execution_count": 50,
   "metadata": {},
   "outputs": [
    {
     "name": "stdout",
     "output_type": "stream",
     "text": [
      "[[ 1  2  3  4]\n",
      " [ 2  3  4  5]\n",
      " [ 3  4  5  6]\n",
      " [ 4  5  6  7]\n",
      " [ 5  6  7  8]\n",
      " [ 6  7  8  9]\n",
      " [ 7  8  9 10]\n",
      " [ 8  9 10 11]\n",
      " [ 9 10 11 12]\n",
      " [10 11 12 13]\n",
      " [11 12 13 14]]\n"
     ]
    }
   ],
   "source": [
    "#81. Consider an array Z = [1,2,3,4,5,6,7,8,9,10,11,12,13,14], how to generate an array R = [[1,2,3,4], [2,3,4,5], [3,4,5,6], ..., [11,12,13,14]]? \n",
    "Z = np.arange(1,15,dtype=np.uint32)\n",
    "R = stride_tricks.as_strided(Z,(11,4),(4,4))\n",
    "print(R)"
   ]
  },
  {
   "cell_type": "code",
   "execution_count": 53,
   "metadata": {},
   "outputs": [
    {
     "name": "stdout",
     "output_type": "stream",
     "text": [
      "5\n"
     ]
    }
   ],
   "source": [
    "#82. Compute a matrix rank\n",
    "Z = np.random.uniform(0,1,(5,5))\n",
    "U, S, V = np.linalg.svd(Z) # Singular Value Decomposition\n",
    "rank = np.sum(S > 1e-10)\n",
    "print(rank)"
   ]
  },
  {
   "cell_type": "code",
   "execution_count": 52,
   "metadata": {},
   "outputs": [
    {
     "data": {
      "text/plain": [
       "array([[0.00691103, 0.37784148, 0.2546791 , 0.39016411, 0.1957595 ,\n",
       "        0.37366701, 0.70181843, 0.48045631, 0.89343115, 0.70572777],\n",
       "       [0.66709709, 0.8227517 , 0.26860141, 0.1639794 , 0.53622915,\n",
       "        0.077139  , 0.71140796, 0.4594469 , 0.43612737, 0.33532329],\n",
       "       [0.61312449, 0.44142794, 0.48652645, 0.52622614, 0.27363074,\n",
       "        0.2907076 , 0.10083885, 0.27642856, 0.23734654, 0.23301916],\n",
       "       [0.08732885, 0.89874748, 0.05917279, 0.25828625, 0.07062363,\n",
       "        0.71099387, 0.8231026 , 0.54954189, 0.31249658, 0.54819844],\n",
       "       [0.59879062, 0.45324292, 0.49970548, 0.06235017, 0.70623404,\n",
       "        0.13548918, 0.81317847, 0.12979578, 0.18022055, 0.42590181],\n",
       "       [0.25334781, 0.50418477, 0.48327386, 0.87257443, 0.07369929,\n",
       "        0.93282905, 0.51815746, 0.9690465 , 0.65772827, 0.25439464],\n",
       "       [0.36308161, 0.30141738, 0.42070365, 0.96293909, 0.81212194,\n",
       "        0.74033941, 0.73434363, 0.66139385, 0.62196218, 0.09182028],\n",
       "       [0.55782621, 0.34173064, 0.68695634, 0.2155573 , 0.90481758,\n",
       "        0.83027488, 0.13007102, 0.02488984, 0.25921327, 0.6640911 ],\n",
       "       [0.74026902, 0.01833055, 0.33961275, 0.51146213, 0.20713227,\n",
       "        0.79637426, 0.84053182, 0.33175692, 0.65927358, 0.31145515],\n",
       "       [0.85958921, 0.53788372, 0.76218808, 0.08475432, 0.68861282,\n",
       "        0.72373932, 0.46156856, 0.82508202, 0.46872664, 0.79994382]])"
      ]
     },
     "execution_count": 52,
     "metadata": {},
     "output_type": "execute_result"
    }
   ],
   "source": [
    "Z"
   ]
  },
  {
   "cell_type": "code",
   "execution_count": 54,
   "metadata": {},
   "outputs": [
    {
     "name": "stdout",
     "output_type": "stream",
     "text": [
      "0\n"
     ]
    }
   ],
   "source": [
    "#83. How to find the most frequent value in an array?\n",
    "Z = np.random.randint(0,10,50)\n",
    "print(np.bincount(Z).argmax())"
   ]
  },
  {
   "cell_type": "code",
   "execution_count": 55,
   "metadata": {},
   "outputs": [
    {
     "data": {
      "text/plain": [
       "array([9, 0, 4, 6, 0, 0, 3, 1, 7, 3, 0, 9, 7, 1, 7, 8, 0, 4, 1, 9, 0, 1,\n",
       "       3, 7, 1, 4, 3, 1, 4, 3, 5, 3, 5, 1, 0, 0, 3, 3, 1, 2, 2, 6, 2, 0,\n",
       "       9, 7, 0, 8, 8, 6])"
      ]
     },
     "execution_count": 55,
     "metadata": {},
     "output_type": "execute_result"
    }
   ],
   "source": [
    "Z"
   ]
  },
  {
   "cell_type": "code",
   "execution_count": 56,
   "metadata": {},
   "outputs": [
    {
     "name": "stdout",
     "output_type": "stream",
     "text": [
      "[[[[0 0 0]\n",
      "   [0 1 2]\n",
      "   [3 2 3]]\n",
      "\n",
      "  [[0 0 0]\n",
      "   [1 2 1]\n",
      "   [2 3 3]]\n",
      "\n",
      "  [[0 0 2]\n",
      "   [2 1 3]\n",
      "   [3 3 2]]\n",
      "\n",
      "  [[0 2 1]\n",
      "   [1 3 0]\n",
      "   [3 2 2]]\n",
      "\n",
      "  [[2 1 2]\n",
      "   [3 0 3]\n",
      "   [2 2 4]]\n",
      "\n",
      "  [[1 2 1]\n",
      "   [0 3 1]\n",
      "   [2 4 1]]\n",
      "\n",
      "  [[2 1 1]\n",
      "   [3 1 0]\n",
      "   [4 1 3]]\n",
      "\n",
      "  [[1 1 3]\n",
      "   [1 0 4]\n",
      "   [1 3 1]]]\n",
      "\n",
      "\n",
      " [[[0 1 2]\n",
      "   [3 2 3]\n",
      "   [3 4 2]]\n",
      "\n",
      "  [[1 2 1]\n",
      "   [2 3 3]\n",
      "   [4 2 1]]\n",
      "\n",
      "  [[2 1 3]\n",
      "   [3 3 2]\n",
      "   [2 1 3]]\n",
      "\n",
      "  [[1 3 0]\n",
      "   [3 2 2]\n",
      "   [1 3 3]]\n",
      "\n",
      "  [[3 0 3]\n",
      "   [2 2 4]\n",
      "   [3 3 0]]\n",
      "\n",
      "  [[0 3 1]\n",
      "   [2 4 1]\n",
      "   [3 0 0]]\n",
      "\n",
      "  [[3 1 0]\n",
      "   [4 1 3]\n",
      "   [0 0 1]]\n",
      "\n",
      "  [[1 0 4]\n",
      "   [1 3 1]\n",
      "   [0 1 2]]]\n",
      "\n",
      "\n",
      " [[[3 2 3]\n",
      "   [3 4 2]\n",
      "   [4 4 1]]\n",
      "\n",
      "  [[2 3 3]\n",
      "   [4 2 1]\n",
      "   [4 1 3]]\n",
      "\n",
      "  [[3 3 2]\n",
      "   [2 1 3]\n",
      "   [1 3 2]]\n",
      "\n",
      "  [[3 2 2]\n",
      "   [1 3 3]\n",
      "   [3 2 4]]\n",
      "\n",
      "  [[2 2 4]\n",
      "   [3 3 0]\n",
      "   [2 4 4]]\n",
      "\n",
      "  [[2 4 1]\n",
      "   [3 0 0]\n",
      "   [4 4 3]]\n",
      "\n",
      "  [[4 1 3]\n",
      "   [0 0 1]\n",
      "   [4 3 2]]\n",
      "\n",
      "  [[1 3 1]\n",
      "   [0 1 2]\n",
      "   [3 2 4]]]\n",
      "\n",
      "\n",
      " [[[3 4 2]\n",
      "   [4 4 1]\n",
      "   [2 4 4]]\n",
      "\n",
      "  [[4 2 1]\n",
      "   [4 1 3]\n",
      "   [4 4 0]]\n",
      "\n",
      "  [[2 1 3]\n",
      "   [1 3 2]\n",
      "   [4 0 3]]\n",
      "\n",
      "  [[1 3 3]\n",
      "   [3 2 4]\n",
      "   [0 3 4]]\n",
      "\n",
      "  [[3 3 0]\n",
      "   [2 4 4]\n",
      "   [3 4 0]]\n",
      "\n",
      "  [[3 0 0]\n",
      "   [4 4 3]\n",
      "   [4 0 3]]\n",
      "\n",
      "  [[0 0 1]\n",
      "   [4 3 2]\n",
      "   [0 3 0]]\n",
      "\n",
      "  [[0 1 2]\n",
      "   [3 2 4]\n",
      "   [3 0 0]]]\n",
      "\n",
      "\n",
      " [[[4 4 1]\n",
      "   [2 4 4]\n",
      "   [3 4 3]]\n",
      "\n",
      "  [[4 1 3]\n",
      "   [4 4 0]\n",
      "   [4 3 4]]\n",
      "\n",
      "  [[1 3 2]\n",
      "   [4 0 3]\n",
      "   [3 4 3]]\n",
      "\n",
      "  [[3 2 4]\n",
      "   [0 3 4]\n",
      "   [4 3 2]]\n",
      "\n",
      "  [[2 4 4]\n",
      "   [3 4 0]\n",
      "   [3 2 0]]\n",
      "\n",
      "  [[4 4 3]\n",
      "   [4 0 3]\n",
      "   [2 0 2]]\n",
      "\n",
      "  [[4 3 2]\n",
      "   [0 3 0]\n",
      "   [0 2 2]]\n",
      "\n",
      "  [[3 2 4]\n",
      "   [3 0 0]\n",
      "   [2 2 1]]]\n",
      "\n",
      "\n",
      " [[[2 4 4]\n",
      "   [3 4 3]\n",
      "   [4 2 3]]\n",
      "\n",
      "  [[4 4 0]\n",
      "   [4 3 4]\n",
      "   [2 3 4]]\n",
      "\n",
      "  [[4 0 3]\n",
      "   [3 4 3]\n",
      "   [3 4 2]]\n",
      "\n",
      "  [[0 3 4]\n",
      "   [4 3 2]\n",
      "   [4 2 4]]\n",
      "\n",
      "  [[3 4 0]\n",
      "   [3 2 0]\n",
      "   [2 4 3]]\n",
      "\n",
      "  [[4 0 3]\n",
      "   [2 0 2]\n",
      "   [4 3 0]]\n",
      "\n",
      "  [[0 3 0]\n",
      "   [0 2 2]\n",
      "   [3 0 0]]\n",
      "\n",
      "  [[3 0 0]\n",
      "   [2 2 1]\n",
      "   [0 0 1]]]\n",
      "\n",
      "\n",
      " [[[3 4 3]\n",
      "   [4 2 3]\n",
      "   [4 0 2]]\n",
      "\n",
      "  [[4 3 4]\n",
      "   [2 3 4]\n",
      "   [0 2 0]]\n",
      "\n",
      "  [[3 4 3]\n",
      "   [3 4 2]\n",
      "   [2 0 1]]\n",
      "\n",
      "  [[4 3 2]\n",
      "   [4 2 4]\n",
      "   [0 1 1]]\n",
      "\n",
      "  [[3 2 0]\n",
      "   [2 4 3]\n",
      "   [1 1 4]]\n",
      "\n",
      "  [[2 0 2]\n",
      "   [4 3 0]\n",
      "   [1 4 4]]\n",
      "\n",
      "  [[0 2 2]\n",
      "   [3 0 0]\n",
      "   [4 4 4]]\n",
      "\n",
      "  [[2 2 1]\n",
      "   [0 0 1]\n",
      "   [4 4 0]]]\n",
      "\n",
      "\n",
      " [[[4 2 3]\n",
      "   [4 0 2]\n",
      "   [1 1 3]]\n",
      "\n",
      "  [[2 3 4]\n",
      "   [0 2 0]\n",
      "   [1 3 2]]\n",
      "\n",
      "  [[3 4 2]\n",
      "   [2 0 1]\n",
      "   [3 2 2]]\n",
      "\n",
      "  [[4 2 4]\n",
      "   [0 1 1]\n",
      "   [2 2 1]]\n",
      "\n",
      "  [[2 4 3]\n",
      "   [1 1 4]\n",
      "   [2 1 0]]\n",
      "\n",
      "  [[4 3 0]\n",
      "   [1 4 4]\n",
      "   [1 0 1]]\n",
      "\n",
      "  [[3 0 0]\n",
      "   [4 4 4]\n",
      "   [0 1 1]]\n",
      "\n",
      "  [[0 0 1]\n",
      "   [4 4 0]\n",
      "   [1 1 4]]]]\n"
     ]
    }
   ],
   "source": [
    "#84. Extract all the contiguous 3x3 blocks from a random 10x10 matrix (★★★)\n",
    "Z = np.random.randint(0,5,(10,10))\n",
    "n = 3\n",
    "i = 1 + (Z.shape[0]-3)\n",
    "j = 1 + (Z.shape[1]-3)\n",
    "C = stride_tricks.as_strided(Z, shape=(i, j, n, n), strides=Z.strides + Z.strides)\n",
    "print(C)"
   ]
  },
  {
   "cell_type": "code",
   "execution_count": 57,
   "metadata": {},
   "outputs": [
    {
     "name": "stdout",
     "output_type": "stream",
     "text": [
      "[[ 7 11 12  9 10]\n",
      " [11  7  3 15  8]\n",
      " [12  3  8 42 12]\n",
      " [ 9 15 42  3 16]\n",
      " [10  8 12 16  4]]\n"
     ]
    }
   ],
   "source": [
    "#85. Create a 2D array subclass such that Z[i,j] == Z[j,i] \n",
    "class Symetric(np.ndarray):\n",
    "    def __setitem__(self, index, value):\n",
    "        i,j = index\n",
    "        super(Symetric, self).__setitem__((i,j), value)\n",
    "        super(Symetric, self).__setitem__((j,i), value)\n",
    "\n",
    "def symetric(Z):\n",
    "    return np.asarray(Z + Z.T - np.diag(Z.diagonal())).view(Symetric)\n",
    "\n",
    "S = symetric(np.random.randint(0,10,(5,5)))\n",
    "S[2,3] = 42\n",
    "print(S)"
   ]
  },
  {
   "cell_type": "code",
   "execution_count": 58,
   "metadata": {},
   "outputs": [
    {
     "name": "stdout",
     "output_type": "stream",
     "text": [
      "[[200.]\n",
      " [200.]\n",
      " [200.]\n",
      " [200.]\n",
      " [200.]\n",
      " [200.]\n",
      " [200.]\n",
      " [200.]\n",
      " [200.]\n",
      " [200.]\n",
      " [200.]\n",
      " [200.]\n",
      " [200.]\n",
      " [200.]\n",
      " [200.]\n",
      " [200.]\n",
      " [200.]\n",
      " [200.]\n",
      " [200.]\n",
      " [200.]]\n"
     ]
    }
   ],
   "source": [
    "#86. Consider a set of p matrices wich shape (n,n) and a set of p vectors with shape (n,1). How to compute the sum of of the p matrix products at once? (result has shape (n,1)) (★★★)\n",
    "p, n = 10, 20\n",
    "M = np.ones((p,n,n))\n",
    "V = np.ones((p,n,1))\n",
    "S = np.tensordot(M, V, axes=[[0, 2], [0, 1]])\n",
    "print(S)\n",
    "\n",
    "# It works, because:\n",
    "# M is (p,n,n)\n",
    "# V is (p,n,1)\n",
    "# Thus, summing over the paired axes 0 and 0 (of M and V independently),\n",
    "# and 2 and 1, to remain with a (n,1) vector."
   ]
  },
  {
   "cell_type": "code",
   "execution_count": 59,
   "metadata": {},
   "outputs": [
    {
     "name": "stdout",
     "output_type": "stream",
     "text": [
      "[[16. 16. 16. 16.]\n",
      " [16. 16. 16. 16.]\n",
      " [16. 16. 16. 16.]\n",
      " [16. 16. 16. 16.]]\n"
     ]
    }
   ],
   "source": [
    "#87. Consider a 16x16 array, how to get the block-sum (block size is 4x4)? (★★★)\n",
    "Z = np.ones((16,16))\n",
    "k = 4\n",
    "S = np.add.reduceat(np.add.reduceat(Z, np.arange(0, Z.shape[0], k), axis=0),\n",
    "                                       np.arange(0, Z.shape[1], k), axis=1)\n",
    "print(S)"
   ]
  },
  {
   "cell_type": "code",
   "execution_count": 60,
   "metadata": {},
   "outputs": [
    {
     "name": "stdout",
     "output_type": "stream",
     "text": [
      "[[0 0 0 ... 0 0 0]\n",
      " [0 0 0 ... 0 0 0]\n",
      " [0 0 0 ... 0 0 0]\n",
      " ...\n",
      " [0 0 0 ... 0 0 0]\n",
      " [0 0 0 ... 0 0 0]\n",
      " [0 0 0 ... 0 0 0]]\n"
     ]
    }
   ],
   "source": [
    "#88. How to implement the Game of Life using numpy arrays? (★★★)\n",
    "def iterate(Z):\n",
    "    # Count neighbours\n",
    "    N = (Z[0:-2,0:-2] + Z[0:-2,1:-1] + Z[0:-2,2:] +\n",
    "         Z[1:-1,0:-2]                + Z[1:-1,2:] +\n",
    "         Z[2:  ,0:-2] + Z[2:  ,1:-1] + Z[2:  ,2:])\n",
    "\n",
    "    # Apply rules\n",
    "    birth = (N==3) & (Z[1:-1,1:-1]==0)\n",
    "    survive = ((N==2) | (N==3)) & (Z[1:-1,1:-1]==1)\n",
    "    Z[...] = 0\n",
    "    Z[1:-1,1:-1][birth | survive] = 1\n",
    "    return Z\n",
    "\n",
    "Z = np.random.randint(0,2,(50,50))\n",
    "for i in range(100): Z = iterate(Z)\n",
    "print(Z)"
   ]
  },
  {
   "cell_type": "code",
   "execution_count": 61,
   "metadata": {},
   "outputs": [
    {
     "name": "stdout",
     "output_type": "stream",
     "text": [
      "[9995 9996 9997 9998 9999]\n",
      "[9996 9998 9999 9997 9995]\n"
     ]
    }
   ],
   "source": [
    "##### 89. How to get the n largest values of an array (★★★)\n",
    "Z = np.arange(10000)\n",
    "np.random.shuffle(Z)\n",
    "n = 5\n",
    "\n",
    "# Slow\n",
    "print (Z[np.argsort(Z)[-n:]])\n",
    "\n",
    "# Fast\n",
    "print (Z[np.argpartition(-Z,n)[:n]])"
   ]
  },
  {
   "cell_type": "code",
   "execution_count": 62,
   "metadata": {},
   "outputs": [
    {
     "name": "stdout",
     "output_type": "stream",
     "text": [
      "[[1 4 6]\n",
      " [1 4 7]\n",
      " [1 5 6]\n",
      " [1 5 7]\n",
      " [2 4 6]\n",
      " [2 4 7]\n",
      " [2 5 6]\n",
      " [2 5 7]\n",
      " [3 4 6]\n",
      " [3 4 7]\n",
      " [3 5 6]\n",
      " [3 5 7]]\n"
     ]
    }
   ],
   "source": [
    "#90. Given an arbitrary number of vectors, build the cartesian product (every combinations of every item) (★★★)\n",
    "def cartesian(arrays):\n",
    "    arrays = [np.asarray(a) for a in arrays]\n",
    "    shape = (len(x) for x in arrays)\n",
    "\n",
    "    ix = np.indices(shape, dtype=int)\n",
    "    ix = ix.reshape(len(arrays), -1).T\n",
    "\n",
    "    for n, arr in enumerate(arrays):\n",
    "        ix[:, n] = arrays[n][ix[:, n]]\n",
    "\n",
    "    return ix\n",
    "\n",
    "print (cartesian(([1, 2, 3], [4, 5], [6, 7])))"
   ]
  },
  {
   "cell_type": "code",
   "execution_count": 63,
   "metadata": {},
   "outputs": [
    {
     "name": "stdout",
     "output_type": "stream",
     "text": [
      "[(b'Hello', 2.5, 3) (b'World', 3.6, 2)]\n"
     ]
    }
   ],
   "source": [
    "#91. How to create a record array from a regular array? (★★★)\n",
    "Z = np.array([(\"Hello\", 2.5, 3),\n",
    "              (\"World\", 3.6, 2)])\n",
    "R = np.core.records.fromarrays(Z.T,\n",
    "                               names='col1, col2, col3',\n",
    "                               formats = 'S8, f8, i8')\n",
    "print(R)"
   ]
  },
  {
   "cell_type": "code",
   "execution_count": 64,
   "metadata": {},
   "outputs": [
    {
     "name": "stdout",
     "output_type": "stream",
     "text": [
      "3.44 s ± 107 ms per loop (mean ± std. dev. of 7 runs, 1 loop each)\n",
      "798 ms ± 67.2 ms per loop (mean ± std. dev. of 7 runs, 1 loop each)\n",
      "554 ms ± 77.5 ms per loop (mean ± std. dev. of 7 runs, 1 loop each)\n"
     ]
    }
   ],
   "source": [
    "#92. Consider a large vector Z, compute Z to the power of 3 using 3 different methods (★★★)\n",
    "x = np.random.rand(int(5e7))\n",
    "\n",
    "%timeit np.power(x,3)\n",
    "%timeit x*x*x\n",
    "%timeit np.einsum('i,i,i->i',x,x,x)"
   ]
  },
  {
   "cell_type": "code",
   "execution_count": 65,
   "metadata": {},
   "outputs": [
    {
     "name": "stdout",
     "output_type": "stream",
     "text": [
      "[0 3 5]\n"
     ]
    }
   ],
   "source": [
    "#93. Consider two arrays A and B of shape (8,3) and (2,2). How to find rows of A that contain elements of each row of B regardless of the order of the elements in B? (★★★)\n",
    "A = np.random.randint(0,5,(8,3))\n",
    "B = np.random.randint(0,5,(2,2))\n",
    "\n",
    "C = (A[..., np.newaxis, np.newaxis] == B)\n",
    "rows = np.where(C.any((3,1)).all(1))[0]\n",
    "print(rows)"
   ]
  },
  {
   "cell_type": "code",
   "execution_count": 66,
   "metadata": {},
   "outputs": [
    {
     "name": "stdout",
     "output_type": "stream",
     "text": [
      "[[3 1 3]\n",
      " [1 4 0]\n",
      " [2 4 3]\n",
      " [1 1 4]\n",
      " [1 1 4]\n",
      " [1 4 3]\n",
      " [4 4 1]\n",
      " [2 0 2]\n",
      " [0 4 2]\n",
      " [2 4 0]]\n",
      "[[3 1 3]\n",
      " [1 4 0]\n",
      " [2 4 3]\n",
      " [1 1 4]\n",
      " [1 1 4]\n",
      " [1 4 3]\n",
      " [4 4 1]\n",
      " [2 0 2]\n",
      " [0 4 2]\n",
      " [2 4 0]]\n",
      "[[3 1 3]\n",
      " [1 4 0]\n",
      " [2 4 3]\n",
      " [1 1 4]\n",
      " [1 1 4]\n",
      " [1 4 3]\n",
      " [4 4 1]\n",
      " [2 0 2]\n",
      " [0 4 2]\n",
      " [2 4 0]]\n"
     ]
    }
   ],
   "source": [
    "#94. Considering a 10x3 matrix, extract rows with unequal values (e.g. [2,2,3]) (★★★)\n",
    "Z = np.random.randint(0,5,(10,3))\n",
    "print(Z)\n",
    "# solution for arrays of all dtypes (including string arrays and record arrays)\n",
    "E = np.all(Z[:,1:] == Z[:,:-1], axis=1)\n",
    "U = Z[~E]\n",
    "print(U)\n",
    "# soluiton for numerical arrays only, will work for any number of columns in Z\n",
    "U = Z[Z.max(axis=1) != Z.min(axis=1),:]\n",
    "print(U)"
   ]
  },
  {
   "cell_type": "code",
   "execution_count": 67,
   "metadata": {},
   "outputs": [
    {
     "name": "stdout",
     "output_type": "stream",
     "text": [
      "[[0 0 0 0 0 0 0 0]\n",
      " [0 0 0 0 0 0 0 1]\n",
      " [0 0 0 0 0 0 1 0]\n",
      " [0 0 0 0 0 0 1 1]\n",
      " [0 0 0 0 1 1 1 1]\n",
      " [0 0 0 1 0 0 0 0]\n",
      " [0 0 1 0 0 0 0 0]\n",
      " [0 1 0 0 0 0 0 0]\n",
      " [1 0 0 0 0 0 0 0]]\n",
      "[[0 0 0 0 0 0 0 0]\n",
      " [0 0 0 0 0 0 0 1]\n",
      " [0 0 0 0 0 0 1 0]\n",
      " [0 0 0 0 0 0 1 1]\n",
      " [0 0 0 0 1 1 1 1]\n",
      " [0 0 0 1 0 0 0 0]\n",
      " [0 0 1 0 0 0 0 0]\n",
      " [0 1 0 0 0 0 0 0]\n",
      " [1 0 0 0 0 0 0 0]]\n"
     ]
    }
   ],
   "source": [
    "#95. Convert a vector of ints into a matrix binary representation (★★★)\n",
    "I = np.array([0, 1, 2, 3, 15, 16, 32, 64, 128])\n",
    "B = ((I.reshape(-1,1) & (2**np.arange(8))) != 0).astype(int)\n",
    "print(B[:,::-1])\n",
    "\n",
    "# Author: Daniel T. McDonald\n",
    "\n",
    "I = np.array([0, 1, 2, 3, 15, 16, 32, 64, 128], dtype=np.uint8)\n",
    "print(np.unpackbits(I[:, np.newaxis], axis=1))"
   ]
  },
  {
   "cell_type": "code",
   "execution_count": 68,
   "metadata": {},
   "outputs": [
    {
     "name": "stdout",
     "output_type": "stream",
     "text": [
      "[[0 0 0]\n",
      " [0 1 0]\n",
      " [0 1 1]\n",
      " [1 0 0]\n",
      " [1 1 0]]\n",
      "[[0 0 0]\n",
      " [0 1 0]\n",
      " [0 1 1]\n",
      " [1 0 0]\n",
      " [1 1 0]]\n"
     ]
    }
   ],
   "source": [
    "#96. Given a two dimensional array, how to extract unique rows? (★★★)\n",
    "Z = np.random.randint(0,2,(6,3))\n",
    "T = np.ascontiguousarray(Z).view(np.dtype((np.void, Z.dtype.itemsize * Z.shape[1])))\n",
    "_, idx = np.unique(T, return_index=True)\n",
    "uZ = Z[idx]\n",
    "print(uZ)\n",
    "\n",
    "# Author: Andreas Kouzelis\n",
    "# NumPy >= 1.13\n",
    "uZ = np.unique(Z, axis=0)\n",
    "print(uZ)"
   ]
  },
  {
   "cell_type": "code",
   "execution_count": 69,
   "metadata": {},
   "outputs": [
    {
     "data": {
      "text/plain": [
       "array([[0.10833658, 0.1405052 , 0.0553406 , 0.0590784 , 0.13492671,\n",
       "        0.06030876, 0.01050739, 0.09367489, 0.02809002, 0.03896578],\n",
       "       [0.47672789, 0.61828377, 0.24352262, 0.25997058, 0.59373601,\n",
       "        0.26538466, 0.04623708, 0.41221013, 0.12360825, 0.17146632],\n",
       "       [0.27386089, 0.35517902, 0.1398939 , 0.14934258, 0.34107732,\n",
       "        0.15245276, 0.02656133, 0.23679805, 0.07100794, 0.09850047],\n",
       "       [0.62775525, 0.81415602, 0.32067057, 0.34232924, 0.78183153,\n",
       "        0.34945851, 0.06088498, 0.54279827, 0.16276734, 0.22578684],\n",
       "       [0.44677533, 0.57943733, 0.22822223, 0.24363677, 0.55643189,\n",
       "        0.24871069, 0.04333203, 0.38631119, 0.11584201, 0.16069318],\n",
       "       [0.32566048, 0.42235958, 0.16635422, 0.17759008, 0.40559061,\n",
       "        0.18128853, 0.03158529, 0.28158737, 0.08443878, 0.1171314 ],\n",
       "       [0.39544658, 0.51286742, 0.20200242, 0.21564603, 0.49250501,\n",
       "        0.22013702, 0.03835373, 0.341929  , 0.10253325, 0.1422316 ],\n",
       "       [0.62746401, 0.8137783 , 0.3205218 , 0.34217042, 0.78146881,\n",
       "        0.34929638, 0.06085673, 0.54254645, 0.16269182, 0.22568208],\n",
       "       [0.48066975, 0.6233961 , 0.24553621, 0.26212017, 0.59864536,\n",
       "        0.26757902, 0.04661939, 0.41561853, 0.12463032, 0.1728841 ],\n",
       "       [0.52868146, 0.68566403, 0.27006159, 0.28830204, 0.65844106,\n",
       "        0.29430615, 0.05127597, 0.45713259, 0.13707902, 0.19015263]])"
      ]
     },
     "execution_count": 69,
     "metadata": {},
     "output_type": "execute_result"
    }
   ],
   "source": [
    "#97. Considering 2 vectors A & B, write the einsum equivalent of inner, outer, sum, and mul function (★★★)\n",
    "A = np.random.uniform(0,1,10)\n",
    "B = np.random.uniform(0,1,10)\n",
    "\n",
    "np.einsum('i->', A)       # np.sum(A)\n",
    "np.einsum('i,i->i', A, B) # A * B\n",
    "np.einsum('i,i', A, B)    # np.inner(A, B)\n",
    "np.einsum('i,j->ij', A, B)    # np.outer(A, B)"
   ]
  },
  {
   "cell_type": "code",
   "execution_count": 72,
   "metadata": {},
   "outputs": [],
   "source": [
    "#98. Considering a path described by two vectors (X,Y), how to sample it using equidistant samples (★★★)?\n",
    "phi = np.arange(0, 10*np.pi, 0.1)\n",
    "a = 1\n",
    "x = a*phi*np.cos(phi)\n",
    "y = a*phi*np.sin(phi)\n",
    "\n",
    "dr = (np.diff(x)**2 + np.diff(y)**2)**.5 # segment lengths\n",
    "r = np.zeros_like(x)\n",
    "r[1:] = np.cumsum(dr)                # integrate path\n",
    "r_int = np.linspace(0, r.max(), 200) # regular spaced path\n",
    "x_int = np.interp(r_int, r, x)       # integrate path\n",
    "y_int = np.interp(r_int, r, y)"
   ]
  },
  {
   "cell_type": "code",
   "execution_count": 71,
   "metadata": {},
   "outputs": [
    {
     "name": "stdout",
     "output_type": "stream",
     "text": [
      "[[2. 0. 1. 1.]]\n"
     ]
    }
   ],
   "source": [
    "#99. Given an integer n and a 2D array X, select from X the rows which can be interpreted as draws from a multinomial distribution with n degrees, i.e., the rows which only contain integers and which sum to n. (★★★)\n",
    "X = np.asarray([[1.0, 0.0, 3.0, 8.0],\n",
    "                [2.0, 0.0, 1.0, 1.0],\n",
    "                [1.5, 2.5, 1.0, 0.0]])\n",
    "n = 4\n",
    "M = np.logical_and.reduce(np.mod(X, 1) == 0, axis=-1)\n",
    "M &= (X.sum(axis=-1) == n)\n",
    "print(X[M])"
   ]
  },
  {
   "cell_type": "code",
   "execution_count": 73,
   "metadata": {},
   "outputs": [
    {
     "name": "stdout",
     "output_type": "stream",
     "text": [
      "[-0.28261295  0.07921151]\n"
     ]
    }
   ],
   "source": [
    "#100. Compute bootstrapped 95% confidence intervals for the mean of a 1D array X (i.e., resample the elements of an array with replacement N times, compute the mean of each sample, and then compute percentiles over the means). (★★★)\n",
    "X = np.random.randn(100) # random 1D array\n",
    "N = 1000 # number of bootstrap samples\n",
    "idx = np.random.randint(0, X.size, (N, X.size))\n",
    "means = X[idx].mean(axis=1)\n",
    "confint = np.percentile(means, [2.5, 97.5])\n",
    "print(confint)"
   ]
  },
  {
   "cell_type": "code",
   "execution_count": null,
   "metadata": {},
   "outputs": [],
   "source": []
  }
 ],
 "metadata": {
  "kernelspec": {
   "display_name": "Python 3",
   "language": "python",
   "name": "python3"
  },
  "language_info": {
   "codemirror_mode": {
    "name": "ipython",
    "version": 3
   },
   "file_extension": ".py",
   "mimetype": "text/x-python",
   "name": "python",
   "nbconvert_exporter": "python",
   "pygments_lexer": "ipython3",
   "version": "3.7.3"
  }
 },
 "nbformat": 4,
 "nbformat_minor": 2
}
