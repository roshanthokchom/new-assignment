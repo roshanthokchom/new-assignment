{
 "cells": [
  {
   "cell_type": "code",
   "execution_count": 76,
   "metadata": {},
   "outputs": [],
   "source": [
    "import scipy\n",
    "from scipy import stats\n",
    "\n",
    "import seaborn as sb\n",
    "import numpy as np\n",
    "from numpy import random\n",
    "from numpy.random import randn\n",
    "import matplotlib.pyplot as plt\n",
    "from random import seed\n",
    "\n"
   ]
  },
  {
   "cell_type": "code",
   "execution_count": null,
   "metadata": {},
   "outputs": [],
   "source": [
    "#11. Create a 3x3 identity matrix\n",
    "#12. Create a 3x3x3 array with random values\n",
    "#13. Create a 10x10 array with random values and find the minimum and maximum values\n",
    "#14. Create a random vector of size 30 and find the mean value\n",
    "#15. Create a 2d array with 1 on the border and 0 inside\n",
    "#16. How to add a border (filled with 0's) around an existing array?\n",
    "#17. What is the result of the following expression?\n",
    "#0 * np.nan\n",
    "#np.nan == np.nan\n",
    "#np.inf > np.nan\n",
    "#np.nan - np.nan\n",
    "#np.nan in set([np.nan])\n",
    "#0.3 == 3 * 0.1"
   ]
  },
  {
   "cell_type": "code",
   "execution_count": 12,
   "metadata": {},
   "outputs": [
    {
     "data": {
      "text/plain": [
       "(3, 3)"
      ]
     },
     "execution_count": 12,
     "metadata": {},
     "output_type": "execute_result"
    }
   ],
   "source": [
    "mat=np.matrix([[1,0,0],[0,1,0],[0,0,1]])  #11. Create a 3x3 identity matrix\n",
    "np.shape(mat)"
   ]
  },
  {
   "cell_type": "code",
   "execution_count": 20,
   "metadata": {},
   "outputs": [
    {
     "data": {
      "text/plain": [
       "array([[[0.35348582, 0.20596261, 0.26986155],\n",
       "        [0.81242169, 0.98459352, 0.69119181],\n",
       "        [0.21918764, 0.97448721, 0.3320361 ]],\n",
       "\n",
       "       [[0.66007038, 0.34418957, 0.78353841],\n",
       "        [0.11886977, 0.50709703, 0.69972334],\n",
       "        [0.14341067, 0.77364984, 0.43867613]],\n",
       "\n",
       "       [[0.92657234, 0.39147736, 0.30300209],\n",
       "        [0.15153435, 0.16697819, 0.67123619],\n",
       "        [0.63370504, 0.376159  , 0.36601369]]])"
      ]
     },
     "execution_count": 20,
     "metadata": {},
     "output_type": "execute_result"
    }
   ],
   "source": [
    "np.random.rand(27).reshape(3,3,3)       #12. Create a 3x3x3 array with random values"
   ]
  },
  {
   "cell_type": "code",
   "execution_count": 45,
   "metadata": {},
   "outputs": [
    {
     "name": "stdout",
     "output_type": "stream",
     "text": [
      "maximum=2.71  minimum= -3.01\n"
     ]
    },
    {
     "data": {
      "text/plain": [
       "array([[-1.02913579,  1.33421951,  1.09102019,  0.41575673, -1.00818767,\n",
       "        -0.15572711, -0.30546083, -0.25725007, -0.46716701, -1.71598021],\n",
       "       [ 0.61613858, -0.09222924, -0.50019976, -0.83823315, -1.25472078,\n",
       "        -1.49234826,  0.72564181,  0.9121133 , -0.4729149 ,  0.90113516],\n",
       "       [-1.0779228 ,  1.2269    ,  1.01207661,  0.74660095, -0.21083083,\n",
       "        -2.08354407, -0.3988353 ,  0.94535619,  0.88227942, -0.43217055],\n",
       "       [-0.06013033,  0.88976384, -0.23399001, -0.73585892,  0.544086  ,\n",
       "         0.33273701,  1.28963145, -0.06745175, -2.53409227,  1.41255669],\n",
       "       [-0.23762199, -0.6578369 , -0.49285373,  0.44328199,  0.52527495,\n",
       "        -0.15891594, -1.02177457, -0.63133035, -0.46486745,  0.96966813],\n",
       "       [-1.11101939,  0.07948375,  0.93501331, -1.09019767, -0.10075498,\n",
       "        -0.32129192, -3.01308049,  0.35193098,  1.07247581,  1.26670095],\n",
       "       [ 1.01456151,  1.69558671, -1.38362598,  0.91224033,  2.48173404,\n",
       "         1.34963442, -1.38704334, -0.60228292, -0.36570257, -0.56115086],\n",
       "       [ 0.5326345 ,  1.12892261, -0.74516915, -0.20060465,  1.20744383,\n",
       "         0.92623887,  1.9580585 , -0.6457042 ,  0.9641639 , -0.06644763],\n",
       "       [-1.54344851,  0.87617277,  0.54832598,  2.71094965,  1.63928942,\n",
       "        -0.14368076, -1.80710507,  1.05206511,  0.25541127,  0.31127839],\n",
       "       [-2.65689299, -0.56267841,  0.11866592,  0.69035635, -0.66627537,\n",
       "        -0.49425637, -0.56491619,  1.63636527, -0.85672322, -0.96138342]])"
      ]
     },
     "execution_count": 45,
     "metadata": {},
     "output_type": "execute_result"
    }
   ],
   "source": [
    "#seed()   #13. Create a 10x10 array with random values and find the minimum and maximum values\n",
    "arr=randn(100).reshape(10,10)\n",
    "print(\"maximum=%.2f \"%arr.max(),\"minimum= %.2f\"%arr.min())  \n",
    "arr"
   ]
  },
  {
   "cell_type": "code",
   "execution_count": 78,
   "metadata": {},
   "outputs": [
    {
     "name": "stdout",
     "output_type": "stream",
     "text": [
      "mean =0.033012\n"
     ]
    },
    {
     "data": {
      "text/plain": [
       "array([ 0.85894712,  0.20873482,  0.731781  , -1.42478496,  0.5105492 ,\n",
       "       -0.49479025,  1.89996853,  0.02541276,  0.32375152, -0.40358818,\n",
       "       -0.47449795,  0.26626964,  1.51491675, -0.33242732, -0.07451055,\n",
       "       -0.44384972, -0.50440516, -0.78156868,  0.00967706, -0.32312361,\n",
       "        0.57688898, -1.20170277, -1.11422101,  1.38034501,  1.06562065,\n",
       "       -0.63826542,  0.51914534, -0.54866705, -0.72927274,  0.58802564])"
      ]
     },
     "execution_count": 78,
     "metadata": {},
     "output_type": "execute_result"
    }
   ],
   "source": [
    "random.seed()  #14. Create a random vector of size 30 and find the mean value\n",
    "vec=np.array(randn(30))\n",
    "print(\"mean =%f\"%vec.mean())\n",
    "vec"
   ]
  },
  {
   "cell_type": "code",
   "execution_count": 81,
   "metadata": {},
   "outputs": [
    {
     "data": {
      "text/plain": [
       "array([[1, 1, 1, 1, 1],\n",
       "       [1, 0, 0, 0, 1],\n",
       "       [1, 1, 1, 1, 1]])"
      ]
     },
     "execution_count": 81,
     "metadata": {},
     "output_type": "execute_result"
    }
   ],
   "source": [
    "#15. Create a 2d array with 1 on the border and 0 inside\n",
    "arr2=np.array([[1,1,1,1,1],[1,0,0,0,1],[1,1,1,1,1]])\n",
    "arr2"
   ]
  },
  {
   "cell_type": "code",
   "execution_count": 105,
   "metadata": {},
   "outputs": [
    {
     "data": {
      "text/plain": [
       "array([[1, 1, 1, 1, 1, 1],\n",
       "       [1, 0, 0, 0, 0, 1],\n",
       "       [1, 0, 0, 0, 0, 1],\n",
       "       [1, 0, 0, 0, 0, 1],\n",
       "       [1, 0, 0, 0, 0, 1],\n",
       "       [1, 1, 1, 1, 1, 1]])"
      ]
     },
     "execution_count": 105,
     "metadata": {},
     "output_type": "execute_result"
    }
   ],
   "source": [
    "#another way of the above question\n",
    "a=np.zeros([4,4],dtype=int)\n",
    "np.pad(a,pad_width=1,mode='constant',constant_values=1)"
   ]
  },
  {
   "cell_type": "code",
   "execution_count": 88,
   "metadata": {},
   "outputs": [
    {
     "data": {
      "text/plain": [
       "array([[0, 0, 0, 0, 0, 0, 0],\n",
       "       [0, 1, 1, 1, 1, 1, 0],\n",
       "       [0, 1, 0, 0, 0, 1, 0],\n",
       "       [0, 1, 1, 1, 1, 1, 0],\n",
       "       [0, 0, 0, 0, 0, 0, 0]])"
      ]
     },
     "execution_count": 88,
     "metadata": {},
     "output_type": "execute_result"
    }
   ],
   "source": [
    "#16. How to add a border (filled with 0's) around an existing array?\n",
    "np.pad(arr2,pad_width=1,mode='constant',constant_values='0')"
   ]
  },
  {
   "cell_type": "code",
   "execution_count": 109,
   "metadata": {},
   "outputs": [
    {
     "data": {
      "text/plain": [
       "False"
      ]
     },
     "execution_count": 109,
     "metadata": {},
     "output_type": "execute_result"
    }
   ],
   "source": [
    "np.nan==np.nan"
   ]
  },
  {
   "cell_type": "code",
   "execution_count": 110,
   "metadata": {},
   "outputs": [
    {
     "data": {
      "text/plain": [
       "False"
      ]
     },
     "execution_count": 110,
     "metadata": {},
     "output_type": "execute_result"
    }
   ],
   "source": [
    "0.3==3*0.1"
   ]
  },
  {
   "cell_type": "code",
   "execution_count": 1,
   "metadata": {},
   "outputs": [
    {
     "data": {
      "text/plain": [
       "nan"
      ]
     },
     "execution_count": 1,
     "metadata": {},
     "output_type": "execute_result"
    }
   ],
   "source": [
    "import numpy as np\n",
    "0*5\n",
    "0*np.nan\n",
    "\n"
   ]
  },
  {
   "cell_type": "code",
   "execution_count": 2,
   "metadata": {},
   "outputs": [
    {
     "data": {
      "text/plain": [
       "False"
      ]
     },
     "execution_count": 2,
     "metadata": {},
     "output_type": "execute_result"
    }
   ],
   "source": [
    "np.inf>np.nan"
   ]
  },
  {
   "cell_type": "code",
   "execution_count": 3,
   "metadata": {},
   "outputs": [
    {
     "data": {
      "text/plain": [
       "nan"
      ]
     },
     "execution_count": 3,
     "metadata": {},
     "output_type": "execute_result"
    }
   ],
   "source": [
    "np.nan-np.nan"
   ]
  },
  {
   "cell_type": "code",
   "execution_count": 4,
   "metadata": {},
   "outputs": [
    {
     "data": {
      "text/plain": [
       "True"
      ]
     },
     "execution_count": 4,
     "metadata": {},
     "output_type": "execute_result"
    }
   ],
   "source": [
    "np.nan in set([np.nan])"
   ]
  },
  {
   "cell_type": "code",
   "execution_count": 5,
   "metadata": {},
   "outputs": [
    {
     "data": {
      "text/plain": [
       "False"
      ]
     },
     "execution_count": 5,
     "metadata": {},
     "output_type": "execute_result"
    }
   ],
   "source": [
    "0.3==3*0.1"
   ]
  },
  {
   "cell_type": "code",
   "execution_count": 10,
   "metadata": {},
   "outputs": [
    {
     "name": "stdout",
     "output_type": "stream",
     "text": [
      "   0  1  2  3  4\n",
      "0  5  5  5  5  5\n",
      "1  5  5  5  5  5\n",
      "2  5  5  5  5  5\n",
      "3  5  5  5  5  5\n",
      "4  5  5  5  5  5\n"
     ]
    },
    {
     "data": {
      "text/html": [
       "<div>\n",
       "<style scoped>\n",
       "    .dataframe tbody tr th:only-of-type {\n",
       "        vertical-align: middle;\n",
       "    }\n",
       "\n",
       "    .dataframe tbody tr th {\n",
       "        vertical-align: top;\n",
       "    }\n",
       "\n",
       "    .dataframe thead th {\n",
       "        text-align: right;\n",
       "    }\n",
       "</style>\n",
       "<table border=\"1\" class=\"dataframe\">\n",
       "  <thead>\n",
       "    <tr style=\"text-align: right;\">\n",
       "      <th></th>\n",
       "      <th>0</th>\n",
       "      <th>1</th>\n",
       "      <th>2</th>\n",
       "      <th>3</th>\n",
       "      <th>4</th>\n",
       "    </tr>\n",
       "  </thead>\n",
       "  <tbody>\n",
       "    <tr>\n",
       "      <th>0</th>\n",
       "      <td>5</td>\n",
       "      <td>5</td>\n",
       "      <td>5</td>\n",
       "      <td>5</td>\n",
       "      <td>5</td>\n",
       "    </tr>\n",
       "    <tr>\n",
       "      <th>1</th>\n",
       "      <td>1</td>\n",
       "      <td>5</td>\n",
       "      <td>5</td>\n",
       "      <td>5</td>\n",
       "      <td>5</td>\n",
       "    </tr>\n",
       "    <tr>\n",
       "      <th>2</th>\n",
       "      <td>5</td>\n",
       "      <td>2</td>\n",
       "      <td>5</td>\n",
       "      <td>5</td>\n",
       "      <td>5</td>\n",
       "    </tr>\n",
       "    <tr>\n",
       "      <th>3</th>\n",
       "      <td>5</td>\n",
       "      <td>5</td>\n",
       "      <td>3</td>\n",
       "      <td>5</td>\n",
       "      <td>5</td>\n",
       "    </tr>\n",
       "    <tr>\n",
       "      <th>4</th>\n",
       "      <td>5</td>\n",
       "      <td>5</td>\n",
       "      <td>5</td>\n",
       "      <td>4</td>\n",
       "      <td>5</td>\n",
       "    </tr>\n",
       "  </tbody>\n",
       "</table>\n",
       "</div>"
      ],
      "text/plain": [
       "   0  1  2  3  4\n",
       "0  5  5  5  5  5\n",
       "1  1  5  5  5  5\n",
       "2  5  2  5  5  5\n",
       "3  5  5  3  5  5\n",
       "4  5  5  5  4  5"
      ]
     },
     "execution_count": 10,
     "metadata": {},
     "output_type": "execute_result"
    }
   ],
   "source": [
    "import pandas as pd #18. Create a 5x5 matrix with values 1,2,3,4 just below the diagonal\n",
    "a=np.array([[5,5,5,5,5],[5,5,5,5,5],[5,5,5,5,5],[5,5,5,5,5],[5,5,5,5,5]])\n",
    "b=pd.DataFrame(a)\n",
    "print(b)\n",
    "b.iloc[1,0]=1\n",
    "b.iloc[2,1]=2\n",
    "b.iloc[3,2]=3\n",
    "b.iloc[4,3]=4\n",
    "b"
   ]
  },
  {
   "cell_type": "code",
   "execution_count": 24,
   "metadata": {},
   "outputs": [
    {
     "data": {
      "text/plain": [
       "array([[0, 0, 0, 0, 0],\n",
       "       [1, 0, 0, 0, 0],\n",
       "       [0, 2, 0, 0, 0],\n",
       "       [0, 0, 3, 0, 0],\n",
       "       [0, 0, 0, 4, 0]])"
      ]
     },
     "execution_count": 24,
     "metadata": {},
     "output_type": "execute_result"
    }
   ],
   "source": [
    "#another way\n",
    "b=np.diag(1+np.arange(4),k=-1)\n",
    "b"
   ]
  },
  {
   "cell_type": "code",
   "execution_count": 65,
   "metadata": {
    "scrolled": true
   },
   "outputs": [
    {
     "data": {
      "text/plain": [
       "array([[1, 0, 1, 0, 1, 0, 1, 0],\n",
       "       [0, 1, 0, 1, 0, 1, 0, 1],\n",
       "       [1, 0, 1, 0, 1, 0, 1, 0],\n",
       "       [0, 1, 0, 1, 0, 1, 0, 1],\n",
       "       [1, 0, 1, 0, 1, 0, 1, 0],\n",
       "       [0, 1, 0, 1, 0, 1, 0, 1],\n",
       "       [1, 0, 1, 0, 1, 0, 1, 0],\n",
       "       [0, 1, 0, 1, 0, 1, 0, 1]])"
      ]
     },
     "execution_count": 65,
     "metadata": {},
     "output_type": "execute_result"
    }
   ],
   "source": [
    "#19. Create a 8x8 matrix and fill it with a checkerboard pattern\n",
    "a=np.zeros([8,8],dtype=int)\n",
    "a[1::2,1::2]=1\n",
    "a[::2,::2]=1\n",
    "\n",
    "a\n"
   ]
  },
  {
   "cell_type": "code",
   "execution_count": 42,
   "metadata": {},
   "outputs": [
    {
     "name": "stdout",
     "output_type": "stream",
     "text": [
      "[[0 1 0 1 0 1 0 1]\n",
      " [1 0 1 0 1 0 1 0]\n",
      " [0 1 0 1 0 1 0 1]\n",
      " [1 0 1 0 1 0 1 0]\n",
      " [0 1 0 1 0 1 0 1]\n",
      " [1 0 1 0 1 0 1 0]\n",
      " [0 1 0 1 0 1 0 1]\n",
      " [1 0 1 0 1 0 1 0]]\n"
     ]
    }
   ],
   "source": [
    "# another type\n",
    "Z = np.zeros((8,8),dtype=int)\n",
    "Z[1::2,::2] = 1\n",
    "Z[::2,1::2] = 1\n",
    "print(Z)"
   ]
  },
  {
   "cell_type": "code",
   "execution_count": 93,
   "metadata": {},
   "outputs": [
    {
     "name": "stdout",
     "output_type": "stream",
     "text": [
      "(1, 5, 3)\n"
     ]
    },
    {
     "data": {
      "text/plain": [
       "(array([1], dtype=int64), array([5], dtype=int64), array([3], dtype=int64))"
      ]
     },
     "execution_count": 93,
     "metadata": {},
     "output_type": "execute_result"
    }
   ],
   "source": [
    "#20. Consider a (6,7,8) shape array, what is the index (x,y,z) of the 100th element?\n",
    "arr=np.arange(336).reshape(6,7,8)\n",
    "print(np.unravel_index(99,(6,7,8)))\n",
    "np.where(arr==99)   # another way using where() method"
   ]
  },
  {
   "cell_type": "code",
   "execution_count": null,
   "metadata": {},
   "outputs": [],
   "source": []
  },
  {
   "cell_type": "code",
   "execution_count": null,
   "metadata": {},
   "outputs": [],
   "source": []
  }
 ],
 "metadata": {
  "kernelspec": {
   "display_name": "Python 3",
   "language": "python",
   "name": "python3"
  },
  "language_info": {
   "codemirror_mode": {
    "name": "ipython",
    "version": 3
   },
   "file_extension": ".py",
   "mimetype": "text/x-python",
   "name": "python",
   "nbconvert_exporter": "python",
   "pygments_lexer": "ipython3",
   "version": "3.7.3"
  }
 },
 "nbformat": 4,
 "nbformat_minor": 2
}
